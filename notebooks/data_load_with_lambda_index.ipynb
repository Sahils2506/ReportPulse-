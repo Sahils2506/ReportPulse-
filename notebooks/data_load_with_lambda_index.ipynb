{
 "cells": [
  {
   "cell_type": "markdown",
   "id": "5e37c12d",
   "metadata": {},
   "source": [
    "## single query on document"
   ]
  },
  {
   "cell_type": "code",
   "execution_count": 99,
   "id": "5d943af0",
   "metadata": {},
   "outputs": [],
   "source": [
    "# !pip install python-dotenv"
   ]
  },
  {
   "cell_type": "code",
   "execution_count": 100,
   "id": "b838dc57",
   "metadata": {},
   "outputs": [],
   "source": [
    "from dotenv import load_dotenv, find_dotenv\n",
    "_ = load_dotenv(find_dotenv()) # read local .env file"
   ]
  },
  {
   "cell_type": "code",
   "execution_count": 15,
   "id": "6ce02894",
   "metadata": {},
   "outputs": [],
   "source": [
    "import os\n",
    "from llama_index import GPTVectorStoreIndex, SimpleDirectoryReader\n",
    "from tenacity import (\n",
    "    retry,\n",
    "    stop_after_attempt,\n",
    "    wait_random_exponential,\n",
    ")  #"
   ]
  },
  {
   "cell_type": "code",
   "execution_count": 103,
   "id": "ed01f7fc",
   "metadata": {},
   "outputs": [],
   "source": [
    "# os.environ[\"OPENAI_API_KEY\"] = os.getenv('OPENAI_API_KEY')"
   ]
  },
  {
   "cell_type": "code",
   "execution_count": 47,
   "id": "4f60325e",
   "metadata": {},
   "outputs": [],
   "source": [
    "# @retry(wait=wait_random_exponential(min=1, max=60), stop=stop_after_attempt(6))"
   ]
  },
  {
   "cell_type": "code",
   "execution_count": 48,
   "id": "f2ed4885",
   "metadata": {},
   "outputs": [],
   "source": [
    "documents = SimpleDirectoryReader('../data').load_data()"
   ]
  },
  {
   "cell_type": "code",
   "execution_count": 49,
   "id": "3933f9ed",
   "metadata": {},
   "outputs": [
    {
     "data": {
      "text/plain": [
       "[Document(text='CBC (Complete Blood Count), Blood\\nPARAMETER\\nRESULTS\\nBIOLOGICAL REF RANGE\\nMETHOD\\nRBC PARAMETERS\\nHaemoglobin \\n11.8 \\n12.0-15.0 g/dL\\nSpectrophotometric\\nRBC \\n4.61 \\n3.8-4.8 mil/cmm\\nElect. Impedance\\nPCV \\n37.6 \\n36-46 %\\nMeasured\\nMCV \\n81.5 \\n80-100 fl\\nCalculated\\nMCH \\n25.5 \\n27-32 pg\\nCalculated\\nMCHC \\n31.3 \\n31.5-34.5 g/dL\\nCalculated\\nRDW \\n12.5 \\n11.6-14.0 %\\nCalculated\\nWBC PARAMETERS\\nWBC Total Count \\n17800 \\n4000-10000 /cmm\\nElect. Impedance\\nWBC DIFFERENTIAL AND ABSOLUTE COUNTS\\nLymphocytes \\n12.9 \\n20-40 %\\nAbsolute Lymphocytes \\n2296.2 \\n1000-3000 /cmm\\nCalculated\\nMonocytes \\n11.0 \\n2-10 %\\nAbsolute Monocytes \\n1958.0 \\n200-1000 /cmm\\nCalculated\\nNeutrophils \\n74.5 \\n40-80 %\\nAbsolute Neutrophils \\n13261.0 \\n2000-7000 /cmm\\nCalculated\\nEosinophils \\n1.2 \\n1-6 %\\nAbsolute Eosinophils \\n213.6 \\n20-500 /cmm\\nCalculated\\nBasophils \\n0.4 \\n0.1-2 %\\nAbsolute Basophils \\n71.2 \\n20-100 /cmm\\nCalculated\\nImmature Leukocytes \\n-  \\nWBC Differential Count by Absorbance & Impedance method/Microscopy.\\nPLATELET PARAMETERS\\nPlatelet Count \\n336000 \\n150000-400000 /cmm\\nElect. Impedance\\nMPV \\n8.5 \\n6-11 fl\\nCalculated\\nPDW \\n11.8 \\n11-18 %\\nCalculated\\nRBC MORPHOLOGY\\nHypochromia \\nMild  \\nMicrocytosis \\n-  \\nMacrocytosis \\n-  \\nAnisocytosis \\n-  \\nPoikilocytosis \\n-  \\nPolychromasia \\n-  \\nPage 1 of 4\\nName\\nAge  /  Gender\\nDr.\\nCID\\n:\\n:\\n:\\n:\\nMRS.RESHMA HEMDEV OPD\\n55 Years / Female\\nVIKRANT SHAH\\n2117740429\\nRegistered\\n:\\nCollected\\n:\\nReported\\n:\\nSID\\n:\\n177803804003\\n26-Jun-2021 / 23:01\\n26-Jun-2021 / 21:25\\n26-Jun-2021 / 21:24\\nReg. Location\\n:\\nZen Hospital, Chembur\\nPrinted\\n:\\n26-Jun-2021 / 23:02\\nR\\nE\\nP\\nO\\nR\\nT\\nAuthentic Check ', doc_id='9007c9c4-cf3f-472c-8aa4-86594f0039f4', embedding=None, doc_hash='c0cf3d0cf41ee64803eef5f1560543425cc104c717d779fb64d6a5c9cf94ce29', extra_info={'page_label': '1', 'file_name': 'Report-2117740429-1.pdf'}),\n",
       " Document(text='Target Cells \\n-  \\nBasophilic Stippling \\n-  \\nNormoblasts \\n-  \\nOthers \\n-  \\nWBC MORPHOLOGY \\n-  \\nPLATELET MORPHOLOGY \\n-  \\nCOMMENT \\nNeutrophilic Leukocytosis  \\nSpecimen:\\n EDTA Whole Blood\\n*Sample processed at SUBURBAN DIAGNOSTICS (INDIA) PVT. LTD Zen Lab, Chembur\\n*** End Of Report ***\\nDr.JYOT THAKKER\\nPATHOLOGIST\\nM.D,D.P.B\\nPage 2 of 4\\nName\\nAge  /  Gender\\nDr.\\nCID\\n:\\n:\\n:\\n:\\nMRS.RESHMA HEMDEV OPD\\n55 Years / Female\\nVIKRANT SHAH\\n2117740429\\nRegistered\\n:\\nCollected\\n:\\nReported\\n:\\nSID\\n:\\n177803804003\\n26-Jun-2021 / 23:01\\n26-Jun-2021 / 21:25\\n26-Jun-2021 / 21:24\\nReg. Location\\n:\\nZen Hospital, Chembur\\nPrinted\\n:\\n26-Jun-2021 / 23:02\\nR\\nE\\nP\\nO\\nR\\nT\\nAuthentic Check ', doc_id='14b52f6c-5736-449d-bd13-113ded53fc2e', embedding=None, doc_hash='e3cd0dcc813040952f4bd07953c12b342879076f71837ec277da862967b09849', extra_info={'page_label': '2', 'file_name': 'Report-2117740429-1.pdf'}),\n",
       " Document(text='MALARIAL PARASITE (MP)\\nPARAMETER\\nRESULTS\\nBIOLOGICAL REF RANGE\\nMALARIAL PARASITE, EDTA WB\\nNegative \\nNegative\\n*Sample processed at SUBURBAN DIAGNOSTICS (INDIA) PVT. LTD Zen Lab, Chembur\\n*** End Of Report ***\\nDr.JYOT THAKKER\\nPATHOLOGIST\\nM.D,D.P.B\\nPage 3 of 4\\nName\\nAge  /  Gender\\nDr.\\nCID\\n:\\n:\\n:\\n:\\nMRS.RESHMA HEMDEV OPD\\n55 Years / Female\\nVIKRANT SHAH\\n2117740429\\nRegistered\\n:\\nCollected\\n:\\nReported\\n:\\nSID\\n:\\n177803804003\\n26-Jun-2021 / 23:01\\n26-Jun-2021 / 21:25\\n26-Jun-2021 / 21:24\\nReg. Location\\n:\\nZen Hospital, Chembur\\nPrinted\\n:\\n26-Jun-2021 / 23:02\\nR\\nE\\nP\\nO\\nR\\nT\\nAuthentic Check ', doc_id='13778a56-23e2-4ea7-a34f-b9624bad2d72', embedding=None, doc_hash='5b94ccedaf536bc44cf5a88bada69db4235e11513f54430c438107cc0fdaa1a2', extra_info={'page_label': '3', 'file_name': 'Report-2117740429-1.pdf'}),\n",
       " Document(text=\"CRP-QUANTITATIVE TEST\\nPARAMETER\\nRESULTS\\nBIOLOGICAL REF RANGE\\nMETHOD\\nCRP-QUANTITATIVE, Serum\\n219.9 \\n1-5 mg/l\\nImm.Turbidimetry\\nKindly correlate clinically\\nInterpretation:\\nCRP elevations are nonspecific and may be useful for the detection of systemic inflammatory processes like;\\n1) To assess treatment of bacterial infections with antibiotics\\n2) To differentiate between active and inactive forms of disease with concurrent infection\\n3\\n) Postoperative monitoring \\xa0& to determine the presence of postoperative complications at an early stage, such as infected \\nwounds, thrombosis, and pneumonia.\\nClinical Significance:\\n1) C-reactive protein (CRP) is an acute phase reactant, a protein made by the liver and released into the blood within a few \\nhours after tissue injury, the start of an infection, or other cause of inflammation.\\xa0\\n2\\n) The test measures the amount of CRP in the blood and can be valuable in detecting inflammation due to acute conditions \\nor in monitoring disease activity in chronic conditions.\\n3) In normal healthy individuals CRP is a trace protein with a range up to 5 mg/L. After onset of an acute phase response the \\nserum CRP concentration rises rapidly and extensively. Alterations are detectable within 6 to 8 hours and the peak value is \\nreached within 24 to 48 hours.\\n4) Levels of up to thousand fold the normal value are associated with severe stimuli such as myocardial infarction, major \\ntrauma, surgery, or malignant neoplasms.\\n5) CRP has a half-life of only a few hours, making it an ideal tool for clinical monitoring. Postoperative monitoring of CRP \\nlevels of patients indicates either the normal recovery process (decreasing levels to normal) or unexpected complications \\n(persisting high levels).\\n6) Persistence of a high serum CRP concentration is usually a grave prognostic sign which generally indicates the presence of \\nan uncontrolled infection.\\n7\\n) CRP determination may replace the classical determination of Erythrocytes Sedimentation Rate (ESR), due to its prompt \\nresponse to changes in disease activity and its good correlation to ESR.\\nReflex Tests:\\n1\\n) Complement\\n2\\n) Procalcitonin\\nLimitations of the test:\\nThe CRP test is not diagnostic of any condition, but it can be used together with signs and symptoms and other tests to \\nevaluate an individual for an acute or chronic inflammatory condition.\\nReference:\\n1) Wallach's Interpretation of Diagnostic Tests 11th edition\\n2) CRP Kit Insert\\n*Sample processed at SUBURBAN DIAGNOSTICS (INDIA) PVT. LTD Zen Lab, Chembur\\n*** End Of Report ***\\nDr.ANUPA DIXIT\\nPATHOLOGIST\\nM.D.(PATH)\\nPage 4 of 4\\nName\\nAge  /  Gender\\nDr.\\nCID\\n:\\n:\\n:\\n:\\nMRS.RESHMA HEMDEV OPD\\n55 Years / Female\\nVIKRANT SHAH\\n2117740429\\nRegistered\\n:\\nCollected\\n:\\nReported\\n:\\nSID\\n:\\n177803804003\\n26-Jun-2021 / 21:44\\n26-Jun-2021 / 21:25\\n26-Jun-2021 / 21:24\\nReg. Location\\n:\\nZen Hospital, Chembur\\nPrinted\\n:\\n26-Jun-2021 / 23:02\\nR\\nE\\nP\\nO\\nR\\nT\\nAuthentic Check \", doc_id='1dff4409-0dab-4621-ab8b-dbeeb7a0490d', embedding=None, doc_hash='4433c9a3f7f29eccf42134a4bfde52b6b1fecec5ff1092a744c99796fc466723', extra_info={'page_label': '4', 'file_name': 'Report-2117740429-1.pdf'})]"
      ]
     },
     "execution_count": 49,
     "metadata": {},
     "output_type": "execute_result"
    }
   ],
   "source": [
    "documents"
   ]
  },
  {
   "cell_type": "code",
   "execution_count": 212,
   "id": "96a470bf",
   "metadata": {},
   "outputs": [
    {
     "data": {
      "text/plain": [
       "list"
      ]
     },
     "execution_count": 212,
     "metadata": {},
     "output_type": "execute_result"
    }
   ],
   "source": [
    "type(documents)"
   ]
  },
  {
   "cell_type": "code",
   "execution_count": 215,
   "id": "c84d5d67",
   "metadata": {},
   "outputs": [],
   "source": [
    "docs = []\n",
    "for doc in documents:\n",
    "    docs.append(doc.text)\n",
    "#documents[0].text"
   ]
  },
  {
   "cell_type": "code",
   "execution_count": 220,
   "id": "0044db14",
   "metadata": {},
   "outputs": [
    {
     "data": {
      "text/plain": [
       "\"CBC (Complete Blood Count), Blood PARAMETER RESULTS BIOLOGICAL REF RANGE METHOD RBC PARAMETERS Haemoglobin  11.8  12.0-15.0 g/dL Spectrophotometric RBC  4.61  3.8-4.8 mil/cmm Elect. Impedance PCV  37.6  36-46 % Measured MCV  81.5  80-100 fl Calculated MCH  25.5  27-32 pg Calculated MCHC  31.3  31.5-34.5 g/dL Calculated RDW  12.5  11.6-14.0 % Calculated WBC PARAMETERS WBC Total Count  17800  4000-10000 /cmm Elect. Impedance WBC DIFFERENTIAL AND ABSOLUTE COUNTS Lymphocytes  12.9  20-40 % Absolute Lymphocytes  2296.2  1000-3000 /cmm Calculated Monocytes  11.0  2-10 % Absolute Monocytes  1958.0  200-1000 /cmm Calculated Neutrophils  74.5  40-80 % Absolute Neutrophils  13261.0  2000-7000 /cmm Calculated Eosinophils  1.2  1-6 % Absolute Eosinophils  213.6  20-500 /cmm Calculated Basophils  0.4  0.1-2 % Absolute Basophils  71.2  20-100 /cmm Calculated Immature Leukocytes  -   WBC Differential Count by Absorbance & Impedance method/Microscopy. PLATELET PARAMETERS Platelet Count  336000  150000-400000 /cmm Elect. Impedance MPV  8.5  6-11 fl Calculated PDW  11.8  11-18 % Calculated RBC MORPHOLOGY Hypochromia  Mild   Microcytosis  -   Macrocytosis  -   Anisocytosis  -   Poikilocytosis  -   Polychromasia  -   Page 1 of 4 Name Age  /  Gender Dr. CID : : : : MRS.RESHMA HEMDEV OPD 55 Years / Female VIKRANT SHAH 2117740429 Registered : Collected : Reported : SID : 177803804003 26-Jun-2021 / 23:01 26-Jun-2021 / 21:25 26-Jun-2021 / 21:24 Reg. Location : Zen Hospital, Chembur Printed : 26-Jun-2021 / 23:02 R E P O R T Authentic Check  Target Cells  -   Basophilic Stippling  -   Normoblasts  -   Others  -   WBC MORPHOLOGY  -   PLATELET MORPHOLOGY  -   COMMENT  Neutrophilic Leukocytosis   Specimen:  EDTA Whole Blood *Sample processed at SUBURBAN DIAGNOSTICS (INDIA) PVT. LTD Zen Lab, Chembur *** End Of Report *** Dr.JYOT THAKKER PATHOLOGIST M.D,D.P.B Page 2 of 4 Name Age  /  Gender Dr. CID : : : : MRS.RESHMA HEMDEV OPD 55 Years / Female VIKRANT SHAH 2117740429 Registered : Collected : Reported : SID : 177803804003 26-Jun-2021 / 23:01 26-Jun-2021 / 21:25 26-Jun-2021 / 21:24 Reg. Location : Zen Hospital, Chembur Printed : 26-Jun-2021 / 23:02 R E P O R T Authentic Check  MALARIAL PARASITE (MP) PARAMETER RESULTS BIOLOGICAL REF RANGE MALARIAL PARASITE, EDTA WB Negative  Negative *Sample processed at SUBURBAN DIAGNOSTICS (INDIA) PVT. LTD Zen Lab, Chembur *** End Of Report *** Dr.JYOT THAKKER PATHOLOGIST M.D,D.P.B Page 3 of 4 Name Age  /  Gender Dr. CID : : : : MRS.RESHMA HEMDEV OPD 55 Years / Female VIKRANT SHAH 2117740429 Registered : Collected : Reported : SID : 177803804003 26-Jun-2021 / 23:01 26-Jun-2021 / 21:25 26-Jun-2021 / 21:24 Reg. Location : Zen Hospital, Chembur Printed : 26-Jun-2021 / 23:02 R E P O R T Authentic Check  CRP-QUANTITATIVE TEST PARAMETER RESULTS BIOLOGICAL REF RANGE METHOD CRP-QUANTITATIVE, Serum 219.9  1-5 mg/l Imm.Turbidimetry Kindly correlate clinically Interpretation: CRP elevations are nonspecific and may be useful for the detection of systemic inflammatory processes like; 1) To assess treatment of bacterial infections with antibiotics 2) To differentiate between active and inactive forms of disease with concurrent infection 3 ) Postoperative monitoring \\xa0& to determine the presence of postoperative complications at an early stage, such as infected  wounds, thrombosis, and pneumonia. Clinical Significance: 1) C-reactive protein (CRP) is an acute phase reactant, a protein made by the liver and released into the blood within a few  hours after tissue injury, the start of an infection, or other cause of inflammation.\\xa0 2 ) The test measures the amount of CRP in the blood and can be valuable in detecting inflammation due to acute conditions  or in monitoring disease activity in chronic conditions. 3) In normal healthy individuals CRP is a trace protein with a range up to 5 mg/L. After onset of an acute phase response the  serum CRP concentration rises rapidly and extensively. Alterations are detectable within 6 to 8 hours and the peak value is  reached within 24 to 48 hours. 4) Levels of up to thousand fold the normal value are associated with severe stimuli such as myocardial infarction, major  trauma, surgery, or malignant neoplasms. 5) CRP has a half-life of only a few hours, making it an ideal tool for clinical monitoring. Postoperative monitoring of CRP  levels of patients indicates either the normal recovery process (decreasing levels to normal) or unexpected complications  (persisting high levels). 6) Persistence of a high serum CRP concentration is usually a grave prognostic sign which generally indicates the presence of  an uncontrolled infection. 7 ) CRP determination may replace the classical determination of Erythrocytes Sedimentation Rate (ESR), due to its prompt  response to changes in disease activity and its good correlation to ESR. Reflex Tests: 1 ) Complement 2 ) Procalcitonin Limitations of the test: The CRP test is not diagnostic of any condition, but it can be used together with signs and symptoms and other tests to  evaluate an individual for an acute or chronic inflammatory condition. Reference: 1) Wallach's Interpretation of Diagnostic Tests 11th edition 2) CRP Kit Insert *Sample processed at SUBURBAN DIAGNOSTICS (INDIA) PVT. LTD Zen Lab, Chembur *** End Of Report *** Dr.ANUPA DIXIT PATHOLOGIST M.D.(PATH) Page 4 of 4 Name Age  /  Gender Dr. CID : : : : MRS.RESHMA HEMDEV OPD 55 Years / Female VIKRANT SHAH 2117740429 Registered : Collected : Reported : SID : 177803804003 26-Jun-2021 / 21:44 26-Jun-2021 / 21:25 26-Jun-2021 / 21:24 Reg. Location : Zen Hospital, Chembur Printed : 26-Jun-2021 / 23:02 R E P O R T Authentic Check \""
      ]
     },
     "execution_count": 220,
     "metadata": {},
     "output_type": "execute_result"
    }
   ],
   "source": [
    "doc_text = ' '.join(docs).replace('\\n', ' ')\n",
    "doc_text"
   ]
  },
  {
   "cell_type": "code",
   "execution_count": 50,
   "id": "44a2bbc1",
   "metadata": {},
   "outputs": [],
   "source": [
    "@retry(wait=wait_random_exponential(min=1, max=60), stop=stop_after_attempt(1))\n",
    "def indexGPTVectorStoreFromDocuments(documents):\n",
    "    index = GPTVectorStoreIndex.from_documents(documents)\n",
    "    return index"
   ]
  },
  {
   "cell_type": "code",
   "execution_count": 51,
   "id": "9c3e9008",
   "metadata": {},
   "outputs": [],
   "source": [
    "index = indexGPTVectorStoreFromDocuments(documents)"
   ]
  },
  {
   "cell_type": "code",
   "execution_count": 52,
   "id": "feb34d49",
   "metadata": {},
   "outputs": [],
   "source": [
    "query_engine = index.as_query_engine()"
   ]
  },
  {
   "cell_type": "code",
   "execution_count": 54,
   "id": "03a0b62d",
   "metadata": {},
   "outputs": [],
   "source": [
    "response = query_engine.query(\"What is the name of the patient?\")"
   ]
  },
  {
   "cell_type": "code",
   "execution_count": 55,
   "id": "4e5d7314",
   "metadata": {},
   "outputs": [
    {
     "data": {
      "text/plain": [
       "llama_index.response.schema.Response"
      ]
     },
     "execution_count": 55,
     "metadata": {},
     "output_type": "execute_result"
    }
   ],
   "source": [
    "type(response)"
   ]
  },
  {
   "cell_type": "code",
   "execution_count": 62,
   "id": "524b08c8",
   "metadata": {},
   "outputs": [
    {
     "name": "stdout",
     "output_type": "stream",
     "text": [
      "\n",
      "MRS.RESHMA HEMDEV OPD\n"
     ]
    }
   ],
   "source": [
    "print(response)"
   ]
  },
  {
   "cell_type": "code",
   "execution_count": 63,
   "id": "871c17ac",
   "metadata": {},
   "outputs": [],
   "source": [
    "# To persist to disk (under ./storage):\n",
    "index.storage_context.persist()"
   ]
  },
  {
   "cell_type": "code",
   "execution_count": 65,
   "id": "114d548b",
   "metadata": {},
   "outputs": [
    {
     "name": "stdout",
     "output_type": "stream",
     "text": [
      "docstore.json     index_store.json  vector_store.json\r\n"
     ]
    }
   ],
   "source": [
    "!ls storage"
   ]
  },
  {
   "cell_type": "code",
   "execution_count": 68,
   "id": "5a6c0c99",
   "metadata": {},
   "outputs": [
    {
     "name": "stdout",
     "output_type": "stream",
     "text": [
      "{\"index_store/data\": {\"b28e0ea9-43f9-4cd9-8e07-7e9ee2559021\": {\"__type__\": \"vector_store\", \"__data__\": \"{\\\"index_id\\\": \\\"b28e0ea9-43f9-4cd9-8e07-7e9ee2559021\\\", \\\"summary\\\": null, \\\"nodes_dict\\\": {\\\"fee5b18b-4363-40b7-8f4a-7248c9af7923\\\": \\\"fee5b18b-4363-40b7-8f4a-7248c9af7923\\\", \\\"446dcb5e-da5c-4e39-a0b4-66de22f5d7a7\\\": \\\"446dcb5e-da5c-4e39-a0b4-66de22f5d7a7\\\", \\\"e8e9216b-4d7e-4db8-a3d7-bdb21bba8706\\\": \\\"e8e9216b-4d7e-4db8-a3d7-bdb21bba8706\\\", \\\"44ecbb29-c41f-4744-a1e6-b69fd235e805\\\": \\\"44ecbb29-c41f-4744-a1e6-b69fd235e805\\\"}, \\\"doc_id_dict\\\": {}, \\\"embeddings_dict\\\": {}}\"}}}"
     ]
    }
   ],
   "source": [
    "!cat storage/index_store.json"
   ]
  },
  {
   "cell_type": "code",
   "execution_count": null,
   "id": "ca184158",
   "metadata": {},
   "outputs": [],
   "source": [
    "# code to reload from the disk\n",
    "from llama_index import StorageContext, load_index_from_storage\n",
    "\n",
    "# To persist to disk (under ./storage):\n",
    "index.storage_context.persist()\n",
    "\n",
    "# rebuild storage context\n",
    "storage_context = StorageContext.from_defaults(persist_dir='./storage')\n",
    "# load index\n",
    "index = load_index_from_storage(storage_context)"
   ]
  },
  {
   "cell_type": "code",
   "execution_count": null,
   "id": "288cc5a1",
   "metadata": {},
   "outputs": [],
   "source": []
  },
  {
   "cell_type": "markdown",
   "id": "d37c9ec1",
   "metadata": {},
   "source": [
    "## Chat Engines Condense Question Mode"
   ]
  },
  {
   "cell_type": "code",
   "execution_count": 208,
   "id": "cadc93b2",
   "metadata": {},
   "outputs": [],
   "source": [
    "chat_engine = index.as_chat_engine(verbose=False)"
   ]
  },
  {
   "cell_type": "code",
   "execution_count": 137,
   "id": "06ac574f",
   "metadata": {},
   "outputs": [],
   "source": [
    "# prompt = f\"Give me a summary of the medical report in laymen terms? Any person that does not have much understanding\\\n",
    "#             about the medical term should be able to understand.\"\n",
    "# response = chat_engine.chat(prompt)"
   ]
  },
  {
   "cell_type": "code",
   "execution_count": 138,
   "id": "06c2ac1a",
   "metadata": {},
   "outputs": [],
   "source": [
    "# print(response)"
   ]
  },
  {
   "cell_type": "code",
   "execution_count": null,
   "id": "b031fd62",
   "metadata": {},
   "outputs": [],
   "source": [
    "index.as_chat_engine?"
   ]
  },
  {
   "cell_type": "code",
   "execution_count": 209,
   "id": "d4edc3cf",
   "metadata": {},
   "outputs": [],
   "source": [
    "prompt_2 = f\"\"\"\n",
    "You are an AI assistant who can understand medical reports and summarize them in layman's terms. \\\n",
    "Summarize the medical report in layman's terms use minimum 120 words to describe the summary. Only use \\\n",
    "most relevant information from the document that is useful to the person whose report is this. The summary \\\n",
    "should contain very simple and easy to understand terms so that even a person with no knowledge of medical science \\\n",
    "can understand the summary. \\\n",
    "Also, extract the parameter readings from the biomedical report. \\\n",
    "Format your response in the following format: \\\n",
    "Summary: <Summary of the report in layman's terms>. \\\n",
    "------\n",
    "Extracted Data: <List of JSON objects>. \\\n",
    "The list of JSON objects should have \"Parameter,\" \"Result,\" \"Biological Reference Range,\" and \"Method\" as the keys. \\\n",
    "If the information isn't present, use \"unknown\" as the value.\n",
    "\n",
    "An example of the report will be like this: \\\n",
    "Summary: \"This is the summary of the report\" \\\n",
    "Extracted Data: \\\n",
    "[{{\"Parameter\": \"Haemoglobin\",\"Result\": \"11.8\",\"Biological Reference Range\": \"12.0-15.0 g/dL\",\"Method\": \"Spectrophotometric\"}}]\n",
    "\"\"\""
   ]
  },
  {
   "cell_type": "code",
   "execution_count": 210,
   "id": "ceba76bb",
   "metadata": {},
   "outputs": [
    {
     "name": "stdout",
     "output_type": "stream",
     "text": [
      "\n",
      "Summary: Mrs. Reshma Hemdev OPD, a 55-year-old female, underwent a complete blood count (CBC) test, a malarial parasite (MP) test, and a C-reactive protein (CRP) quantitative test. The CBC test revealed a haemoglobin level of 11.8 g/dL, a red blood cell count of 4.61 mil/cmm, a packed cell volume of 37.6%, a mean corpuscular volume of 81.5 fl, a mean corpuscular haemoglobin of 25.5 pg, a mean corpuscular haemoglobin concentration of 31.3 g/dL, a red cell distribution width of 12.5%, a white blood cell count of 17800/cmm, a lymphocyte count of 12.9%, an absolute lymphocyte count of 2296.2/cmm, a monocyte count of 11.0%, an absolute monocyte count of 1958.0/cmm, a neutrophil count of 74.5%, an absolute neutrophil count of 13261.0/cmm, an eosinophil count of 1.2%, an absolute eosinophil count of 213.6/cmm, a basophil count of 0.4%, and an absolute basophil count of 71.2/cmm. The MP test was negative. The CRP quantitative test revealed a result of 219.9 mg/L.\n",
      "\n",
      "Extracted Data: [{\"Parameter\": \"Haemoglobin\", \"Result\": \"11.8\", \"Biological Reference Range\": \"12.0-15.0 g/dL\", \"Method\": \"Spectrophotometric\"}, {\"Parameter\": \"RBC\", \"Result\": \"4.61\", \"Biological Reference Range\": \"3.8-4.8 mil/cmm\", \"Method\": \"Elect. Impedance\"}, {\"Parameter\": \"PCV\", \"Result\": \"37.6\", \"Biological Reference Range\": \"36-46 %\", \"Method\": \"Measured\"}, {\"Parameter\": \"MCV\", \"Result\": \"81.5\", \"Biological Reference Range\": \"80-100 fl\", \"Method\": \"Calculated\"}, {\"Parameter\": \"MCH\", \"Result\": \"25.5\", \"Biological Reference Range\": \"27-32 pg\", \"Method\": \"Calculated\"}, {\"Parameter\": \"MCHC\", \"Result\": \"31.3\", \"Biological Reference Range\": \"31.5-34.5 g/dL\", \"Method\": \"Calculated\"}, {\"Parameter\": \"RDW\", \"Result\": \"12.5\", \"Biological Reference Range\": \"11.6-14.0 %\", \"Method\": \"Calculated\"}, {\"Parameter\": \"WBC Total Count\", \"Result\": \"17800\", \"Biological Reference Range\": \"4000-10000 /cmm\", \"Method\": \"Elect. Impedance\"}, {\"Parameter\": \"Lymphocytes\", \"Result\": \"12.9\", \"Biological Reference Range\": \"20-40 %\", \"Method\": \"Absolute Lymphocytes\"}, {\"Parameter\": \"Monocytes\", \"Result\": \"11.0\", \"Biological Reference Range\": \"2-10 %\", \"Method\": \"Absolute Monocytes\"}, {\"Parameter\": \"Neutrophils\", \"Result\": \"74.5\", \"Biological Reference Range\": \"40-80 %\", \"Method\": \"Absolute Neutrophils\"}, {\"Parameter\": \"Eosinophils\", \"Result\": \"1.2\", \"Biological Reference Range\": \"1-6 %\", \"Method\": \"Absolute Eosinophils\"}, {\"Parameter\": \"Basophils\", \"Result\": \"0.4\", \"Biological Reference Range\": \"0.1-2 %\", \"Method\": \"Absolute Basophils\"}, {\"Parameter\": \"Immature Leukocytes\", \"Result\": \"unknown\", \"Biological Reference Range\": \"WBC Differential Count by Absorbance & Impedance method/Microscopy.\", \"Method\": \"unknown\"}, {\"Parameter\": \"Platelet Count\", \"Result\": \"336000\", \"Biological Reference Range\": \"150000-400000 /cmm\", \"Method\": \"Elect. Impedance\"}, {\"Parameter\": \"MPV\", \"Result\": \"8.5\", \"Biological Reference Range\": \"6-11 fl\", \"Method\": \"Calculated\"}, {\"Parameter\": \"PDW\", \"Result\": \"11.8\", \"Biological Reference Range\": \"11-18 %\", \"Method\": \"Calculated\"}, {\"Parameter\": \"Hypochromia\", \"Result\": \"Mild\", \"Biological Reference Range\": \"unknown\", \"Method\": \"unknown\"}, {\"Parameter\": \"Microcytosis\", \"Result\": \"unknown\", \"Biological Reference Range\": \"unknown\", \"Method\": \"unknown\"}, {\"Parameter\": \"Macrocytosis\", \"Result\": \"unknown\", \"Biological Reference Range\": \"unknown\", \"Method\": \"unknown\"}, {\"Parameter\": \"Anisocytosis\", \"Result\": \"unknown\", \"Biological Reference Range\": \"unknown\", \"Method\": \"unknown\"}, {\"Parameter\": \"Poikilocytosis\", \"Result\": \"unknown\", \"Biological Reference Range\": \"unknown\", \"Method\": \"unknown\"}, {\"Parameter\": \"Polychromasia\", \"Result\": \"unknown\", \"Biological Reference Range\": \"unknown\", \"Method\": \"unknown\"}, {\"Parameter\": \"Target Cells\", \"Result\": \"unknown\", \"Biological Reference Range\": \"unknown\", \"Method\": \"unknown\"}, {\"Parameter\": \"Basophilic Stippling\", \"Result\": \"unknown\", \"Biological Reference Range\": \"unknown\", \"Method\": \"unknown\"}, {\"Parameter\": \"Normoblasts\", \"Result\": \"unknown\", \"Biological Reference Range\": \"unknown\", \"Method\": \"unknown\"}, {\"Parameter\": \"Others\", \"Result\": \"unknown\", \"Biological Reference Range\": \"unknown\", \"Method\": \"unknown\"}, {\"Parameter\": \"WBC MORPHOLOGY\", \"Result\": \"unknown\", \"Biological Reference Range\": \"unknown\", \"Method\": \"unknown\"}, {\"Parameter\": \"PLATELET MORPHOLOGY\", \"Result\": \"unknown\", \"Biological Reference Range\": \"unknown\", \"Method\": \"unknown\"}, {\"Parameter\": \"MALARIAL PARASITE (MP)\", \"Result\": \"Negative\", \"Biological Reference Range\": \"Negative\", \"Method\": \"unknown\"}, {\"Parameter\": \"CRP-QUANTITATIVE TEST\", \"Result\": \"219.9\", \"Biological Reference Range\": \"1-5 mg/l\", \"Method\": \"Imm.Turbidimetry\"}]\n"
     ]
    }
   ],
   "source": [
    "# prompt_2 = f\"\"\"\n",
    "# You are an ai assistant who can understand the medical reports and summarise in laymen terms. \\\n",
    "# Summarise the medical report in laymen terms, even any person that does not know anything about medical science \\\n",
    "# should be able to understand the summary. \\\n",
    "# Also extract the parameter readings from the biomedical report. \\\n",
    "# Format your response in the follwing format:- \\\n",
    "# Summary:- <Summary of the report in laymen term>.\n",
    "# Extracted Data:- <List of Json object>. \\\n",
    "# The list of JSON object with \"Parameter\", \"Result\", \"Biological Reference Range\" and \"Method\" as the keys. \\\n",
    "# If the information isn't present, use \"unknown\" as the value.\n",
    "\n",
    "# An example of the report will be like this:- \\\n",
    "# Summary:- \"This is the summary of the report\" \\\n",
    "# Extracted Data:- \\\n",
    "# [{\"Parameter\": \"Haemoglobin\",\"Result\": \"11.8\",\"Biological Reference Range\": \"12.0-15.0 g/dL\",\"Method\": \"Spectrophotometric\"}]\n",
    "# \"\"\"\n",
    "\n",
    "response_2 = chat_engine.chat(prompt_2)\n",
    "print(response_2)"
   ]
  },
  {
   "cell_type": "code",
   "execution_count": 211,
   "id": "62fb8678",
   "metadata": {},
   "outputs": [
    {
     "name": "stderr",
     "output_type": "stream",
     "text": [
      "Retrying langchain.llms.openai.completion_with_retry.<locals>._completion_with_retry in 4.0 seconds as it raised Timeout: Request timed out: HTTPSConnectionPool(host='api.openai.com', port=443): Read timed out. (read timeout=600).\n"
     ]
    },
    {
     "name": "stdout",
     "output_type": "stream",
     "text": [
      "\n",
      "The medical report is for Mrs. Reshma Hemdev OPD, a 55-year-old female, with CID 2117740429. The report includes a Complete Blood Count (CBC), Malarial Parasite (MP) and C-Reactive Protein (CRP) Quantitative Test. \n",
      "\n",
      "The CBC test results show that Mrs. Hemdev's haemoglobin level is 11.8 g/dL, which is slightly lower than the normal range of 12.0-15.0 g/dL. Her red blood cell count is 4.61 mil/cmm, which is within the normal range of 3.8-4.8 mil/cmm. Her packed cell volume (PCV) is 37.6%, which is within the normal range of 36-46%. Her mean corpuscular volume (MCV) is 81.5 fl, which is within the normal range of 80-100 fl. Her mean corpuscular haemoglobin (MCH) is 25.5 pg, which is lower than the normal range of 27-32 pg. Her mean corpuscular haemoglobin concentration (MCHC) is 31.3 g/dL, which is within the normal range of 31.5-34.5 g/dL. Her red cell distribution width (RDW) is 12.5%, which is within the normal range of 11.6-14.0%.\n",
      "\n",
      "The WBC test results show that Mrs. Hemdev's total white blood cell count is 17800/cmm, which is within the normal range of 4000-10000/cmm. Her lymphocyte count is 12.9%, which is lower than the normal range of 20-40%. Her absolute lymphocyte count is 2296.2/cmm, which is within the normal range of 1000-3000/cmm. Her monocyte count is 11.0%, which is within the normal range of 2-10%. Her absolute monocyte count is 1958.0/cmm, which is within the normal range of 200-1000/cmm. Her neutrophil count is 74.5%, which is within the normal range of 40-80%. Her absolute neutrophil count is 13261.0/cmm, which is within the normal range of 2000-7000/cmm. Her eosinophil count is 1.2%, which is within the normal range of 1-6%. Her absolute eosinophil count is 213.6/cmm, which is within the normal range of 20-500/cmm. Her basophil count is 0.4%, which is within the normal range of 0.1-2%. Her absolute basophil count is 71.2/cmm, which is within the normal range of 20-100/cmm.\n",
      "\n",
      "The platelet test results show that Mrs. Hemdev's platelet count is 336000/cmm, which is within the normal range of 150000-400000/cmm. Her mean platelet volume (MPV) is 8.5 fl, which is within the normal range of 6-11 fl. Her platelet distribution width (PDW) is 11.8%, which is within the normal range of 11-18%.\n",
      "\n",
      "The Malarial Parasite (MP) test results show that Mrs. Hemdev is negative for Malarial Parasite.\n",
      "\n",
      "The C-Reactive Protein (CRP) Quantitative Test results show that Mrs. Hemdev's CRP level is 219.9 mg/L, which is higher than the normal range of 1-5 mg/L.\n",
      "\n",
      "The following is a list of JSON objects with \"Parameter\", \"Result\", \"Biological Reference Range\" and \"Method\" as the keys, and \"unknown\" as the value if the information isn't present:\n",
      "\n",
      "[\n",
      "  {\n",
      "    \"Parameter\": \"Haemoglobin\",\n",
      "    \"Result\": \"11.8\",\n",
      "    \"Biological Reference Range\": \"12.0-15.0 g/dL\",\n",
      "    \"Method\": \"Spectrophotometric\"\n",
      "  },\n",
      "  {\n",
      "    \"Parameter\": \"RBC\",\n",
      "    \"Result\": \"4.61\",\n",
      "    \"Biological Reference Range\": \"3.8-4.8 mil/cmm\",\n",
      "    \"Method\": \"Elect. Impedance\"\n",
      "  },\n",
      "  {\n",
      "    \"Parameter\": \"PCV\",\n",
      "    \"Result\": \"37.6\",\n",
      "    \"Biological Reference Range\": \"36-46 %\",\n",
      "    \"Method\": \"Measured\"\n",
      "  },\n",
      "  {\n",
      "    \"Parameter\": \"MCV\",\n",
      "    \"Result\": \"81.5\",\n",
      "    \"Biological Reference Range\": \"80-100 fl\",\n",
      "    \"Method\": \"Calculated\"\n",
      "  },\n",
      "  {\n",
      "    \"Parameter\": \"MCH\",\n",
      "    \"Result\": \"25.5\",\n",
      "    \"Biological Reference Range\": \"27-32 pg\",\n",
      "    \"Method\": \"Calculated\"\n",
      "  },\n",
      "  {\n",
      "    \"Parameter\": \"MCHC\",\n",
      "    \"Result\": \"31.3\",\n",
      "    \"Biological Reference Range\": \"31.5-34.5 g/dL\",\n",
      "    \"Method\": \"Calculated\"\n",
      "  },\n",
      "  {\n",
      "    \"Parameter\": \"RDW\",\n",
      "    \"Result\": \"12.5\",\n",
      "    \"Biological Reference Range\": \"11.6-14.0 %\",\n",
      "    \"Method\": \"Calculated\"\n",
      "  },\n",
      "  {\n",
      "    \"Parameter\": \"WBC Total Count\",\n",
      "    \"Result\": \"17800\",\n",
      "    \"Biological Reference Range\": \"4000-10000 /cmm\",\n",
      "    \"Method\": \"Elect. Impedance\"\n",
      "  },\n",
      "  {\n",
      "    \"Parameter\": \"Lymphocytes\",\n",
      "    \"Result\": \"12.9\",\n",
      "    \"Biological Reference Range\": \"20-40 %\",\n",
      "    \"Method\": \"Absolute Lymphocytes\"\n",
      "  },\n",
      "  {\n",
      "    \"Parameter\": \"Absolute Lymphocytes\",\n",
      "    \"Result\": \"2296.2\",\n",
      "    \"Biological Reference Range\": \"1000-3000 /cmm\",\n",
      "    \"Method\": \"Calculated\"\n",
      "  },\n",
      "  {\n",
      "    \"Parameter\": \"Monocytes\",\n",
      "    \"Result\": \"11.0\",\n",
      "    \"Biological Reference Range\": \"2-10 %\",\n",
      "    \"Method\": \"Absolute Monocytes\"\n",
      "  },\n",
      "  {\n",
      "    \"Parameter\": \"Absolute Monocytes\",\n",
      "    \"Result\": \"1958.0\",\n",
      "    \"Biological Reference Range\": \"200-1000 /cmm\",\n",
      "    \"Method\": \"Calculated\"\n",
      "  },\n",
      "  {\n",
      "    \"Parameter\": \"Neutrophils\",\n",
      "    \"Result\": \"74.5\",\n",
      "    \"Biological Reference Range\": \"40-80 %\",\n",
      "    \"Method\": \"Absolute Neutrophils\"\n",
      "  },\n",
      "  {\n",
      "    \"Parameter\": \"Absolute Neutrophils\",\n",
      "    \"Result\": \"13261.0\",\n",
      "    \"Biological Reference Range\": \"2000-7000 /cmm\",\n",
      "    \"Method\": \"Calculated\"\n",
      "  },\n",
      "  {\n",
      "    \"Parameter\": \"Eosinophils\",\n",
      "    \"Result\": \"1.2\",\n",
      "    \"Biological Reference Range\": \"1-6 %\",\n",
      "    \"Method\": \"Absolute Eosinophils\"\n",
      "  },\n",
      "  {\n",
      "    \"Parameter\": \"Absolute Eosinophils\",\n",
      "    \"Result\": \"213.6\",\n",
      "    \"Biological Reference Range\": \"20-500 /cmm\",\n",
      "    \"Method\": \"Calculated\"\n",
      "  },\n",
      "  {\n",
      "    \"Parameter\": \"Basophils\",\n",
      "    \"Result\": \"0.4\",\n",
      "    \"Biological Reference Range\": \"0.1-2 %\",\n",
      "    \"Method\": \"Absolute Basophils\"\n",
      "  },\n",
      "  {\n",
      "    \"Parameter\": \"Absolute Basophils\",\n",
      "    \"Result\": \"71.2\",\n",
      "    \"Biological Reference Range\": \"20-100 /cmm\",\n",
      "    \"Method\": \"Calculated\"\n",
      "  },\n",
      "  {\n",
      "    \"Parameter\": \"Platelet Count\",\n",
      "    \"Result\": \"336000\",\n",
      "    \"Biological Reference Range\": \"150000-400000 /cmm\",\n",
      "    \"Method\": \"Elect. Impedance\"\n",
      "  },\n",
      "  {\n",
      "    \"Parameter\": \"MPV\",\n"
     ]
    }
   ],
   "source": [
    "# 'Extract the out of range reading of the patient, the abnormal reading\\\n",
    "#     is the reading whose value is not in the range of biological reference, \\\n",
    "#     before returning the result validate the result by your self. For example if the result is 11 and the refrence \\\n",
    "#     range is between 10-12 then the value is in range but if the value is 13 then it is out of range.Return the result in json format with keys as parameter, \\\n",
    "# parameter value and biological reference range ?'\n",
    "\n",
    "# delimeter = \"```\"\n",
    "prompt = f\"\"\"\n",
    "Extract the parameter reading from the biomedical report. \\\n",
    "Format your response as a list of JSON object with \\\n",
    "\"Parameter\", \"Result\", \"Biological Reference Range\" and \"Method\" as the keys. \\\n",
    "If the information isn't present, use \"unknown\" as the value.\n",
    "\"\"\"\n",
    "\n",
    "response = chat_engine.chat(prompt)\n",
    "print(response)"
   ]
  },
  {
   "cell_type": "code",
   "execution_count": 167,
   "id": "242e583c",
   "metadata": {},
   "outputs": [
    {
     "name": "stdout",
     "output_type": "stream",
     "text": [
      "[{'Parameter': 'Haemoglobin', 'Result': '11.8', 'Biological Reference Range': '12.0-15.0 g/dL', 'Method': 'Spectrophotometric'}, {'Parameter': 'RBC', 'Result': '4.61', 'Biological Reference Range': '3.8-4.8 mil/cmm', 'Method': 'Elect. Impedance'}, {'Parameter': 'PCV', 'Result': '37.6', 'Biological Reference Range': '36-46 %', 'Method': 'Measured'}, {'Parameter': 'MCV', 'Result': '81.5', 'Biological Reference Range': '80-100 fl', 'Method': 'Calculated'}, {'Parameter': 'MCH', 'Result': '25.5', 'Biological Reference Range': '27-32 pg', 'Method': 'Calculated'}, {'Parameter': 'MCHC', 'Result': '31.3', 'Biological Reference Range': '31.5-34.5 g/dL', 'Method': 'Calculated'}, {'Parameter': 'RDW', 'Result': '12.5', 'Biological Reference Range': '11.6-14.0 %', 'Method': 'Calculated'}, {'Parameter': 'WBC Total Count', 'Result': '17800', 'Biological Reference Range': '4000-10000 /cmm', 'Method': 'Elect. Impedance'}, {'Parameter': 'Lymphocytes', 'Result': '12.9', 'Biological Reference Range': '20-40 %', 'Method': 'Absolute Lymphocytes'}, {'Parameter': 'Absolute Lymphocytes', 'Result': '2296.2', 'Biological Reference Range': '1000-3000 /cmm', 'Method': 'Calculated'}, {'Parameter': 'Monocytes', 'Result': '11.0', 'Biological Reference Range': '2-10 %', 'Method': 'Absolute Monocytes'}, {'Parameter': 'Absolute Monocytes', 'Result': '1958.0', 'Biological Reference Range': '200-1000 /cmm', 'Method': 'Calculated'}, {'Parameter': 'Neutrophils', 'Result': '74.5', 'Biological Reference Range': '40-80 %', 'Method': 'Absolute Neutrophils'}, {'Parameter': 'Absolute Neutrophils', 'Result': '13261.0', 'Biological Reference Range': '2000-7000 /cmm', 'Method': 'Calculated'}, {'Parameter': 'Eosinophils', 'Result': '1.2', 'Biological Reference Range': '1-6 %', 'Method': 'Absolute Eosinophils'}, {'Parameter': 'Absolute Eosinophils', 'Result': '213.6', 'Biological Reference Range': '20-500 /cmm', 'Method': 'Calculated'}, {'Parameter': 'Basophils', 'Result': '0.4', 'Biological Reference Range': '0.1-2 %', 'Method': 'Absolute Basophils'}, {'Parameter': 'Absolute Basophils', 'Result': '71.2', 'Biological Reference Range': '20-100 /cmm', 'Method': 'Calculated'}, {'Parameter': 'Immature Leukocytes', 'Result': 'unknown', 'Biological Reference Range': 'unknown', 'Method': 'WBC Differential Count by Absorbance & Impedance method/Microscopy.'}, {'Parameter': 'Hypochromia', 'Result': 'Mild', 'Biological Reference Range': 'unknown', 'Method': 'unknown'}, {'Parameter': 'Microcytosis', 'Result': 'unknown', 'Biological Reference Range': 'unknown', 'Method': 'unknown'}, {'Parameter': 'Macrocytosis', 'Result': 'unknown', 'Biological Reference Range': 'unknown', 'Method': 'unknown'}, {'Parameter': 'Anisocytosis', 'Result': 'unknown', 'Biological Reference Range': 'unknown', 'Method': 'unknown'}, {'Parameter': 'Poikilocytosis', 'Result': 'unknown', 'Biological Reference Range': 'unknown', 'Method': 'unknown'}, {'Parameter': 'Polychromasia', 'Result': 'unknown', 'Biological Reference Range': 'unknown', 'Method': 'unknown'}, {'Parameter': 'Target Cells', 'Result': 'unknown', 'Biological Reference Range': 'unknown', 'Method': 'unknown'}, {'Parameter': 'Basophilic Stippling', 'Result': 'unknown', 'Biological Reference Range': 'unknown', 'Method': 'unknown'}, {'Parameter': 'Normoblasts', 'Result': 'unknown', 'Biological Reference Range': 'unknown', 'Method': 'unknown'}, {'Parameter': 'Others', 'Result': 'unknown', 'Biological Reference Range': 'unknown', 'Method': 'unknown'}, {'Parameter': 'WBC MORPHOLOGY', 'Result': 'unknown', 'Biological Reference Range': 'unknown', 'Method': 'unknown'}, {'Parameter': 'PLATELET MORPHOLOGY', 'Result': 'unknown', 'Biological Reference Range': 'unknown', 'Method': 'unknown'}, {'Parameter': 'MALARIAL PARASITE (MP)', 'Result': 'Negative', 'Biological Reference Range': 'Negative', 'Method': 'unknown'}, {'Parameter': 'CRP-QUANTITATIVE TEST', 'Result': '219.9', 'Biological Reference Range': '1-5 mg/l', 'Method': 'Imm.Turbidimetry'}]\n"
     ]
    }
   ],
   "source": [
    "reports = json.loads(response.response.split('\\n\\n')[-1])\n",
    "print(reports)"
   ]
  },
  {
   "cell_type": "code",
   "execution_count": 153,
   "id": "b87a3e63",
   "metadata": {},
   "outputs": [
    {
     "ename": "ValueError",
     "evalue": "could not convert string to float: '20-100 /cmm'",
     "output_type": "error",
     "traceback": [
      "\u001b[0;31m---------------------------------------------------------------------------\u001b[0m",
      "\u001b[0;31mValueError\u001b[0m                                Traceback (most recent call last)",
      "Cell \u001b[0;32mIn[153], line 1\u001b[0m\n\u001b[0;32m----> 1\u001b[0m \u001b[38;5;28;43mfloat\u001b[39;49m\u001b[43m(\u001b[49m\u001b[38;5;124;43m\"\u001b[39;49m\u001b[38;5;124;43m20-100 /cmm\u001b[39;49m\u001b[38;5;124;43m\"\u001b[39;49m\u001b[43m)\u001b[49m\n",
      "\u001b[0;31mValueError\u001b[0m: could not convert string to float: '20-100 /cmm'"
     ]
    }
   ],
   "source": [
    "float(\"20-100 /cmm\")"
   ]
  },
  {
   "cell_type": "code",
   "execution_count": 170,
   "id": "6e464645",
   "metadata": {},
   "outputs": [],
   "source": [
    "def validate_value_in_range(record):\n",
    "    parameter_value = float(record['Result'])\n",
    "    biological_range = record['Biological Reference Range'].split(' ')[0]\n",
    "    biological_low_range, biological_high_range  = [float(val) for val in biological_range.split('-')]\n",
    "    if parameter_value < biological_low_range:\n",
    "        record['variation'] = str(parameter_value - biological_low_range)\n",
    "    elif parameter_value > biological_high_range:\n",
    "        record['variation'] = str(parameter_value - biological_high_range)\n",
    "    return record"
   ]
  },
  {
   "cell_type": "code",
   "execution_count": 171,
   "id": "57042f96",
   "metadata": {},
   "outputs": [],
   "source": [
    "import json\n",
    "def get_relevant_report(reports):\n",
    "    # resports data format is expected to be a list of json object\n",
    "    abnormal_data_numeric = []\n",
    "    string_data = []\n",
    "    for record in reports:\n",
    "        if record[\"Result\"] != \"unknown\":\n",
    "            try:\n",
    "                new_record = validate_value_in_range(record)\n",
    "                abnormal_data_numeric.append(new_record)\n",
    "            except Exception as e:\n",
    "                # if here means the vlaue is string type\n",
    "                string_data.append(record)\n",
    "    new_report = {\n",
    "        \"numeric\": abnormal_data_numeric,\n",
    "        \"string\": string_data\n",
    "    }\n",
    "    return new_report"
   ]
  },
  {
   "cell_type": "code",
   "execution_count": 172,
   "id": "ddc21e07",
   "metadata": {},
   "outputs": [
    {
     "data": {
      "text/plain": [
       "{'numeric': [{'Parameter': 'Haemoglobin',\n",
       "   'Result': '11.8',\n",
       "   'Biological Reference Range': '12.0-15.0 g/dL',\n",
       "   'Method': 'Spectrophotometric',\n",
       "   'variation': '-0.1999999999999993'},\n",
       "  {'Parameter': 'RBC',\n",
       "   'Result': '4.61',\n",
       "   'Biological Reference Range': '3.8-4.8 mil/cmm',\n",
       "   'Method': 'Elect. Impedance'},\n",
       "  {'Parameter': 'PCV',\n",
       "   'Result': '37.6',\n",
       "   'Biological Reference Range': '36-46 %',\n",
       "   'Method': 'Measured'},\n",
       "  {'Parameter': 'MCV',\n",
       "   'Result': '81.5',\n",
       "   'Biological Reference Range': '80-100 fl',\n",
       "   'Method': 'Calculated'},\n",
       "  {'Parameter': 'MCH',\n",
       "   'Result': '25.5',\n",
       "   'Biological Reference Range': '27-32 pg',\n",
       "   'Method': 'Calculated',\n",
       "   'variation': '-1.5'},\n",
       "  {'Parameter': 'MCHC',\n",
       "   'Result': '31.3',\n",
       "   'Biological Reference Range': '31.5-34.5 g/dL',\n",
       "   'Method': 'Calculated',\n",
       "   'variation': '-0.1999999999999993'},\n",
       "  {'Parameter': 'RDW',\n",
       "   'Result': '12.5',\n",
       "   'Biological Reference Range': '11.6-14.0 %',\n",
       "   'Method': 'Calculated'},\n",
       "  {'Parameter': 'WBC Total Count',\n",
       "   'Result': '17800',\n",
       "   'Biological Reference Range': '4000-10000 /cmm',\n",
       "   'Method': 'Elect. Impedance',\n",
       "   'variation': '7800.0'},\n",
       "  {'Parameter': 'Lymphocytes',\n",
       "   'Result': '12.9',\n",
       "   'Biological Reference Range': '20-40 %',\n",
       "   'Method': 'Absolute Lymphocytes',\n",
       "   'variation': '-7.1'},\n",
       "  {'Parameter': 'Absolute Lymphocytes',\n",
       "   'Result': '2296.2',\n",
       "   'Biological Reference Range': '1000-3000 /cmm',\n",
       "   'Method': 'Calculated'},\n",
       "  {'Parameter': 'Monocytes',\n",
       "   'Result': '11.0',\n",
       "   'Biological Reference Range': '2-10 %',\n",
       "   'Method': 'Absolute Monocytes',\n",
       "   'variation': '1.0'},\n",
       "  {'Parameter': 'Absolute Monocytes',\n",
       "   'Result': '1958.0',\n",
       "   'Biological Reference Range': '200-1000 /cmm',\n",
       "   'Method': 'Calculated',\n",
       "   'variation': '958.0'},\n",
       "  {'Parameter': 'Neutrophils',\n",
       "   'Result': '74.5',\n",
       "   'Biological Reference Range': '40-80 %',\n",
       "   'Method': 'Absolute Neutrophils'},\n",
       "  {'Parameter': 'Absolute Neutrophils',\n",
       "   'Result': '13261.0',\n",
       "   'Biological Reference Range': '2000-7000 /cmm',\n",
       "   'Method': 'Calculated',\n",
       "   'variation': '6261.0'},\n",
       "  {'Parameter': 'Eosinophils',\n",
       "   'Result': '1.2',\n",
       "   'Biological Reference Range': '1-6 %',\n",
       "   'Method': 'Absolute Eosinophils'},\n",
       "  {'Parameter': 'Absolute Eosinophils',\n",
       "   'Result': '213.6',\n",
       "   'Biological Reference Range': '20-500 /cmm',\n",
       "   'Method': 'Calculated'},\n",
       "  {'Parameter': 'Basophils',\n",
       "   'Result': '0.4',\n",
       "   'Biological Reference Range': '0.1-2 %',\n",
       "   'Method': 'Absolute Basophils'},\n",
       "  {'Parameter': 'Absolute Basophils',\n",
       "   'Result': '71.2',\n",
       "   'Biological Reference Range': '20-100 /cmm',\n",
       "   'Method': 'Calculated'},\n",
       "  {'Parameter': 'CRP-QUANTITATIVE TEST',\n",
       "   'Result': '219.9',\n",
       "   'Biological Reference Range': '1-5 mg/l',\n",
       "   'Method': 'Imm.Turbidimetry',\n",
       "   'variation': '214.9'}],\n",
       " 'string': [{'Parameter': 'Hypochromia',\n",
       "   'Result': 'Mild',\n",
       "   'Biological Reference Range': 'unknown',\n",
       "   'Method': 'unknown'},\n",
       "  {'Parameter': 'MALARIAL PARASITE (MP)',\n",
       "   'Result': 'Negative',\n",
       "   'Biological Reference Range': 'Negative',\n",
       "   'Method': 'unknown'}]}"
      ]
     },
     "execution_count": 172,
     "metadata": {},
     "output_type": "execute_result"
    }
   ],
   "source": [
    "get_relevant_report(reports)"
   ]
  },
  {
   "cell_type": "code",
   "execution_count": null,
   "id": "6a479742",
   "metadata": {},
   "outputs": [],
   "source": []
  },
  {
   "cell_type": "code",
   "execution_count": 125,
   "id": "5189aa4a",
   "metadata": {},
   "outputs": [
    {
     "data": {
      "text/plain": [
       "Response(response='\\nYes, you can provide a list of JSON objects containing the \"Parameter\", \"Result\", \"Biological Reference Range\" and \"Method\" from the biomedical report, with \"unknown\" as the value if the information isn\\'t present. An example of such a list is provided below:\\n\\n[\\n  {\\n    \"Parameter\": \"Haemoglobin\",\\n    \"Result\": \"11.8\",\\n    \"Biological Reference Range\": \"12.0-15.0 g/dL\",\\n    \"Method\": \"Spectrophotometric\"\\n  },\\n  {\\n    \"Parameter\": \"RBC\",\\n    \"Result\": \"4.61\",\\n    \"Biological Reference Range\": \"3.8-4.8 mil/cmm\",\\n    \"Method\": \"Elect. Impedance\"\\n  },\\n  {\\n    \"Parameter\": \"PCV\",\\n    \"Result\": \"37.6\",\\n    \"Biological Reference Range\": \"36-46 %\",\\n    \"Method\": \"Measured\"\\n  },\\n  {\\n    \"Parameter\": \"MCV\",\\n    \"Result\": \"81.5\",\\n    \"Biological Reference Range\": \"80-100 fl\",\\n    \"Method\": \"Calculated\"\\n  },\\n  {\\n    \"Parameter\": \"MCH\",\\n    \"Result\": \"25.5\",\\n    \"Biological Reference Range\": \"27-32 pg\",\\n    \"Method\": \"Calculated\"\\n  },\\n  {\\n    \"Parameter\": \"MCHC\",\\n    \"Result\": \"31.3\",\\n    \"Biological Reference Range\": \"31.5-34.5 g/dL\",\\n    \"Method\": \"Calculated\"\\n  },\\n  {\\n    \"Parameter\": \"RDW\",\\n    \"Result\": \"12.5\",\\n    \"Biological Reference Range\": \"11.6-14.0 %\",\\n    \"Method\": \"Calculated\"\\n  },\\n  {\\n    \"Parameter\": \"WBC Total Count\",\\n    \"Result\": \"17800\",\\n    \"Biological Reference Range\": \"4000-10000 /cmm\",\\n    \"Method\": \"Elect. Impedance\"\\n  },\\n  {\\n    \"Parameter\": \"Lymphocytes\",\\n    \"Result\": \"12.9\",\\n    \"Biological Reference Range\": \"20-40 %\",\\n    \"Method\": \"Absolute Lymphocytes\"\\n  },\\n  {\\n    \"Parameter\": \"Absolute Lymphocytes\",\\n    \"Result\": \"2296.2\",\\n    \"Biological Reference Range\": \"1000-3000 /cmm\",\\n    \"Method\": \"Calculated\"\\n  },\\n  {\\n    \"Parameter\": \"Monocytes\",\\n    \"Result\": \"11.0\",\\n    \"Biological Reference Range\": \"2-10 %\",\\n    \"Method\": \"Absolute Monocytes\"\\n  },\\n  {\\n    \"Parameter\": \"Absolute Monocytes\",\\n    \"Result\": \"1958.0\",\\n    \"Biological Reference Range\": \"200-1000 /cmm\",\\n    \"Method\": \"Calculated\"\\n  },\\n  {\\n    \"Parameter\": \"Neutrophils\",\\n    \"Result\": \"74.5\",\\n    \"Biological Reference Range\": \"40-80 %\",\\n    \"Method\": \"Absolute Neutrophils\"\\n  },\\n  {\\n    \"Parameter\": \"Absolute Neutrophils\",\\n    \"Result\": \"13261.0\",\\n    \"Biological Reference Range\": \"2000-7000 /cmm\",\\n    \"Method\": \"Calculated\"\\n  },\\n  {\\n    \"Parameter\": \"Eosinophils\",\\n    \"Result\": \"1.2\",\\n    \"Biological Reference Range\": \"1-6 %\",\\n    \"Method\": \"Absolute Eosinophils\"\\n  },\\n  {\\n    \"Parameter\": \"Absolute Eosinophils\",\\n    \"Result\": \"213.6\",\\n    \"Biological Reference Range\": \"20-500 /cmm\",\\n    \"Method\": \"Calculated\"\\n  },\\n  {\\n    \"Parameter\": \"Basophils\",\\n    \"Result\": \"0.4\",\\n    \"Biological Reference Range\": \"0.1-2 %\",\\n    \"Method\": \"Absolute Basophils\"\\n  },\\n  {\\n    \"Parameter\": \"Absolute Basophils\",\\n    \"Result\": \"71.2\",\\n    \"Biological Reference Range\": \"20-100 /cmm\",\\n    \"Method\": \"Calculated\"\\n  },\\n  {\\n    \"Parameter\": \"Immature Leukocytes\",\\n    \"Result\": \"unknown\",\\n    \"Biological Reference Range\": \"unknown\",\\n    \"Method\": \"WBC Differential Count by Absorbance & Impedance method/Microscopy.\"\\n  },\\n  {\\n    \"Parameter\": \"Hypochromia\",\\n    \"Result\": \"Mild\",\\n    \"Biological Reference Range\": \"unknown\",\\n    \"Method\": \"unknown\"\\n  },\\n  {\\n    \"Parameter\": \"Microcytosis\",\\n    \"Result\": \"unknown\",\\n    \"Biological Reference Range\": \"unknown\",\\n    \"Method\": \"unknown\"\\n  },\\n  {\\n    \"Parameter\": \"Macrocytosis\",\\n    \"Result\": \"unknown\",\\n    \"Biological Reference Range\": \"unknown\",\\n    \"Method\": \"unknown\"\\n  },\\n  {\\n    \"Parameter\": \"Anisocytosis\",\\n    \"Result\": \"unknown\",\\n    \"Biological Reference Range\": \"unknown\",\\n    \"Method\": \"unknown\"\\n  },\\n  {\\n    \"Parameter\": \"Poikilocytosis\",\\n    \"Result\": \"unknown\",\\n    \"Biological Reference Range\": \"unknown\",\\n    \"Method\": \"unknown\"\\n  },\\n  {\\n    \"Parameter\": \"Polychromasia\",\\n    \"Result\": \"unknown\",\\n    \"Biological Reference Range\": \"unknown\",\\n    \"Method\": \"unknown\"\\n  },\\n  {\\n    \"Parameter\": \"Target Cells\",\\n    \"Result\": \"unknown\",\\n    \"Biological Reference Range\": \"unknown\",\\n    \"Method\": \"unknown\"\\n  },\\n  {\\n    \"Parameter\": \"Basophilic Stippling\",\\n    \"Result\": \"unknown\",\\n    \"Biological Reference Range\": \"unknown\",\\n    \"Method\": \"unknown\"\\n  },\\n  {\\n    \"Parameter\": \"Normoblasts\",\\n    \"Result\": \"unknown\",\\n    \"Biological Reference Range\": \"unknown\",\\n    \"Method\": \"unknown\"\\n  },\\n  {\\n    \"Parameter\": \"Others\",\\n    \"Result\": \"unknown\",\\n    \"Biological Reference Range\": \"unknown\",\\n    \"Method\": \"unknown\"\\n  },\\n  {\\n    \"Parameter\": \"WBC MORPHOLOGY\",\\n    \"Result\": \"unknown\",\\n    \"Biological Reference Range\": \"unknown\",\\n    \"Method\": \"unknown\"\\n  },\\n  {\\n    \"Parameter\": \"PLATELET MORPHOLOGY\",\\n    \"Result\": \"unknown\",\\n    \"Biological Reference Range\": \"unknown\",\\n    \"Method\": \"unknown\"\\n  },\\n  {\\n    \"Parameter\": \"MALARIAL PARASITE (MP)\",\\n    \"Result\": \"Negative\",\\n    \"Biological Reference Range\": \"Negative\",\\n    \"Method\": \"unknown\"\\n  },\\n  {\\n    \"Parameter\": \"CRP-QUANTITATIVE TEST\",\\n    \"Result\": \"219.9\",\\n    \"Biological Reference Range\": \"1-5 mg/l\",\\n    \"Method\": \"Imm.Turbidimetry\"\\n  }\\n]', source_nodes=[NodeWithScore(node=Node(text='CBC (Complete Blood Count), Blood\\nPARAMETER\\nRESULTS\\nBIOLOGICAL REF RANGE\\nMETHOD\\nRBC PARAMETERS\\nHaemoglobin \\n11.8 \\n12.0-15.0 g/dL\\nSpectrophotometric\\nRBC \\n4.61 \\n3.8-4.8 mil/cmm\\nElect. Impedance\\nPCV \\n37.6 \\n36-46 %\\nMeasured\\nMCV \\n81.5 \\n80-100 fl\\nCalculated\\nMCH \\n25.5 \\n27-32 pg\\nCalculated\\nMCHC \\n31.3 \\n31.5-34.5 g/dL\\nCalculated\\nRDW \\n12.5 \\n11.6-14.0 %\\nCalculated\\nWBC PARAMETERS\\nWBC Total Count \\n17800 \\n4000-10000 /cmm\\nElect. Impedance\\nWBC DIFFERENTIAL AND ABSOLUTE COUNTS\\nLymphocytes \\n12.9 \\n20-40 %\\nAbsolute Lymphocytes \\n2296.2 \\n1000-3000 /cmm\\nCalculated\\nMonocytes \\n11.0 \\n2-10 %\\nAbsolute Monocytes \\n1958.0 \\n200-1000 /cmm\\nCalculated\\nNeutrophils \\n74.5 \\n40-80 %\\nAbsolute Neutrophils \\n13261.0 \\n2000-7000 /cmm\\nCalculated\\nEosinophils \\n1.2 \\n1-6 %\\nAbsolute Eosinophils \\n213.6 \\n20-500 /cmm\\nCalculated\\nBasophils \\n0.4 \\n0.1-2 %\\nAbsolute Basophils \\n71.2 \\n20-100 /cmm\\nCalculated\\nImmature Leukocytes \\n-  \\nWBC Differential Count by Absorbance & Impedance method/Microscopy.\\nPLATELET PARAMETERS\\nPlatelet Count \\n336000 \\n150000-400000 /cmm\\nElect. Impedance\\nMPV \\n8.5 \\n6-11 fl\\nCalculated\\nPDW \\n11.8 \\n11-18 %\\nCalculated\\nRBC MORPHOLOGY\\nHypochromia \\nMild  \\nMicrocytosis \\n-  \\nMacrocytosis \\n-  \\nAnisocytosis \\n-  \\nPoikilocytosis \\n-  \\nPolychromasia \\n-  \\nPage 1 of 4\\nName\\nAge  /  Gender\\nDr.\\nCID\\n:\\n:\\n:\\n:\\nMRS.RESHMA HEMDEV OPD\\n55 Years / Female\\nVIKRANT SHAH\\n2117740429\\nRegistered\\n:\\nCollected\\n:\\nReported\\n:\\nSID\\n:\\n177803804003\\n26-Jun-2021 / 23:01\\n26-Jun-2021 / 21:25\\n26-Jun-2021 / 21:24\\nReg. Location\\n:\\nZen Hospital, Chembur\\nPrinted\\n:\\n26-Jun-2021 / 23:02\\nR\\nE\\nP\\nO\\nR\\nT\\nAuthentic Check ', doc_id='dbcb2559-93a6-4052-8233-43f794373087', embedding=None, doc_hash='c0cf3d0cf41ee64803eef5f1560543425cc104c717d779fb64d6a5c9cf94ce29', extra_info={'page_label': '1', 'file_name': 'Report-2117740429-1.pdf'}, node_info={'start': 0, 'end': 1540, '_node_type': <NodeType.TEXT: '1'>}, relationships={<DocumentRelationship.SOURCE: '1'>: '9007c9c4-cf3f-472c-8aa4-86594f0039f4'}), score=None), NodeWithScore(node=Node(text='Target Cells \\n-  \\nBasophilic Stippling \\n-  \\nNormoblasts \\n-  \\nOthers \\n-  \\nWBC MORPHOLOGY \\n-  \\nPLATELET MORPHOLOGY \\n-  \\nCOMMENT \\nNeutrophilic Leukocytosis  \\nSpecimen:\\n EDTA Whole Blood\\n*Sample processed at SUBURBAN DIAGNOSTICS (INDIA) PVT. LTD Zen Lab, Chembur\\n*** End Of Report ***\\nDr.JYOT THAKKER\\nPATHOLOGIST\\nM.D,D.P.B\\nPage 2 of 4\\nName\\nAge  /  Gender\\nDr.\\nCID\\n:\\n:\\n:\\n:\\nMRS.RESHMA HEMDEV OPD\\n55 Years / Female\\nVIKRANT SHAH\\n2117740429\\nRegistered\\n:\\nCollected\\n:\\nReported\\n:\\nSID\\n:\\n177803804003\\n26-Jun-2021 / 23:01\\n26-Jun-2021 / 21:25\\n26-Jun-2021 / 21:24\\nReg. Location\\n:\\nZen Hospital, Chembur\\nPrinted\\n:\\n26-Jun-2021 / 23:02\\nR\\nE\\nP\\nO\\nR\\nT\\nAuthentic Check ', doc_id='f3fa4744-096a-460b-b88b-a2dd27a47f3c', embedding=None, doc_hash='e3cd0dcc813040952f4bd07953c12b342879076f71837ec277da862967b09849', extra_info={'page_label': '2', 'file_name': 'Report-2117740429-1.pdf'}, node_info={'start': 0, 'end': 642, '_node_type': <NodeType.TEXT: '1'>}, relationships={<DocumentRelationship.SOURCE: '1'>: '14b52f6c-5736-449d-bd13-113ded53fc2e'}), score=None), NodeWithScore(node=Node(text='MALARIAL PARASITE (MP)\\nPARAMETER\\nRESULTS\\nBIOLOGICAL REF RANGE\\nMALARIAL PARASITE, EDTA WB\\nNegative \\nNegative\\n*Sample processed at SUBURBAN DIAGNOSTICS (INDIA) PVT. LTD Zen Lab, Chembur\\n*** End Of Report ***\\nDr.JYOT THAKKER\\nPATHOLOGIST\\nM.D,D.P.B\\nPage 3 of 4\\nName\\nAge  /  Gender\\nDr.\\nCID\\n:\\n:\\n:\\n:\\nMRS.RESHMA HEMDEV OPD\\n55 Years / Female\\nVIKRANT SHAH\\n2117740429\\nRegistered\\n:\\nCollected\\n:\\nReported\\n:\\nSID\\n:\\n177803804003\\n26-Jun-2021 / 23:01\\n26-Jun-2021 / 21:25\\n26-Jun-2021 / 21:24\\nReg. Location\\n:\\nZen Hospital, Chembur\\nPrinted\\n:\\n26-Jun-2021 / 23:02\\nR\\nE\\nP\\nO\\nR\\nT\\nAuthentic Check ', doc_id='3efde9df-83cb-431c-8fc1-c45545219e67', embedding=None, doc_hash='5b94ccedaf536bc44cf5a88bada69db4235e11513f54430c438107cc0fdaa1a2', extra_info={'page_label': '3', 'file_name': 'Report-2117740429-1.pdf'}, node_info={'start': 0, 'end': 567, '_node_type': <NodeType.TEXT: '1'>}, relationships={<DocumentRelationship.SOURCE: '1'>: '13778a56-23e2-4ea7-a34f-b9624bad2d72'}), score=None), NodeWithScore(node=Node(text=\"CRP-QUANTITATIVE TEST\\nPARAMETER\\nRESULTS\\nBIOLOGICAL REF RANGE\\nMETHOD\\nCRP-QUANTITATIVE, Serum\\n219.9 \\n1-5 mg/l\\nImm.Turbidimetry\\nKindly correlate clinically\\nInterpretation:\\nCRP elevations are nonspecific and may be useful for the detection of systemic inflammatory processes like;\\n1) To assess treatment of bacterial infections with antibiotics\\n2) To differentiate between active and inactive forms of disease with concurrent infection\\n3\\n) Postoperative monitoring \\xa0& to determine the presence of postoperative complications at an early stage, such as infected \\nwounds, thrombosis, and pneumonia.\\nClinical Significance:\\n1) C-reactive protein (CRP) is an acute phase reactant, a protein made by the liver and released into the blood within a few \\nhours after tissue injury, the start of an infection, or other cause of inflammation.\\xa0\\n2\\n) The test measures the amount of CRP in the blood and can be valuable in detecting inflammation due to acute conditions \\nor in monitoring disease activity in chronic conditions.\\n3) In normal healthy individuals CRP is a trace protein with a range up to 5 mg/L. After onset of an acute phase response the \\nserum CRP concentration rises rapidly and extensively. Alterations are detectable within 6 to 8 hours and the peak value is \\nreached within 24 to 48 hours.\\n4) Levels of up to thousand fold the normal value are associated with severe stimuli such as myocardial infarction, major \\ntrauma, surgery, or malignant neoplasms.\\n5) CRP has a half-life of only a few hours, making it an ideal tool for clinical monitoring. Postoperative monitoring of CRP \\nlevels of patients indicates either the normal recovery process (decreasing levels to normal) or unexpected complications \\n(persisting high levels).\\n6) Persistence of a high serum CRP concentration is usually a grave prognostic sign which generally indicates the presence of \\nan uncontrolled infection.\\n7\\n) CRP determination may replace the classical determination of Erythrocytes Sedimentation Rate (ESR), due to its prompt \\nresponse to changes in disease activity and its good correlation to ESR.\\nReflex Tests:\\n1\\n) Complement\\n2\\n) Procalcitonin\\nLimitations of the test:\\nThe CRP test is not diagnostic of any condition, but it can be used together with signs and symptoms and other tests to \\nevaluate an individual for an acute or chronic inflammatory condition.\\nReference:\\n1) Wallach's Interpretation of Diagnostic Tests 11th edition\\n2) CRP Kit Insert\\n*Sample processed at SUBURBAN DIAGNOSTICS (INDIA) PVT. LTD Zen Lab, Chembur\\n*** End Of Report ***\\nDr.ANUPA DIXIT\\nPATHOLOGIST\\nM.D.(PATH)\\nPage 4 of 4\\nName\\nAge  /  Gender\\nDr.\\nCID\\n:\\n:\\n:\\n:\\nMRS.RESHMA HEMDEV OPD\\n55 Years / Female\\nVIKRANT SHAH\\n2117740429\\nRegistered\\n:\\nCollected\\n:\\nReported\\n:\\nSID\\n:\\n177803804003\\n26-Jun-2021 / 21:44\\n26-Jun-2021 / 21:25\\n26-Jun-2021 / 21:24\\nReg. Location\\n:\\nZen Hospital, Chembur\\nPrinted\\n:\\n26-Jun-2021 / 23:02\\nR\\nE\\nP\\nO\\nR\\nT\\nAuthentic Check \", doc_id='b64cd824-b582-4303-8ea6-6ceaec49ac6e', embedding=None, doc_hash='4433c9a3f7f29eccf42134a4bfde52b6b1fecec5ff1092a744c99796fc466723', extra_info={'page_label': '4', 'file_name': 'Report-2117740429-1.pdf'}, node_info={'start': 0, 'end': 2895, '_node_type': <NodeType.TEXT: '1'>}, relationships={<DocumentRelationship.SOURCE: '1'>: '1dff4409-0dab-4621-ab8b-dbeeb7a0490d'}), score=None)], extra_info={'dbcb2559-93a6-4052-8233-43f794373087': {'page_label': '1', 'file_name': 'Report-2117740429-1.pdf'}, 'f3fa4744-096a-460b-b88b-a2dd27a47f3c': {'page_label': '2', 'file_name': 'Report-2117740429-1.pdf'}, '3efde9df-83cb-431c-8fc1-c45545219e67': {'page_label': '3', 'file_name': 'Report-2117740429-1.pdf'}, 'b64cd824-b582-4303-8ea6-6ceaec49ac6e': {'page_label': '4', 'file_name': 'Report-2117740429-1.pdf'}})"
      ]
     },
     "execution_count": 125,
     "metadata": {},
     "output_type": "execute_result"
    }
   ],
   "source": []
  },
  {
   "cell_type": "code",
   "execution_count": 201,
   "id": "72c01dfa",
   "metadata": {},
   "outputs": [
    {
     "name": "stdout",
     "output_type": "stream",
     "text": [
      "\n",
      "हाँ, रेड ब्लड सेल का परिणाम नॉर्मल रेंज में है।\n"
     ]
    }
   ],
   "source": [
    "text = \"Does the RBC count normal?\"\n",
    "lang = \"Hindi\"\n",
    "\n",
    "prompt = f\"{text}. Return the result in {lang} language.\"\n",
    "\n",
    "response = chat_engine.chat(prompt)\n",
    "print(response)"
   ]
  },
  {
   "cell_type": "code",
   "execution_count": 81,
   "id": "6ca84d35",
   "metadata": {},
   "outputs": [],
   "source": [
    "response = chat_engine.chat('Can you return the complete blood count report as HTML table only?')\n",
    "print(response)"
   ]
  },
  {
   "cell_type": "code",
   "execution_count": 79,
   "id": "fb2365f9",
   "metadata": {},
   "outputs": [
    {
     "data": {
      "text/plain": [
       "'\\nYes, you can provide the complete blood count report for Mrs. Reshma Hemdev as an HTML table, including the RBC count which is 4.61 mil/cmm and is within the normal range of 3.8-4.8 mil/cmm.\\n\\n<table>\\n  <tr>\\n    <th>PARAMETER</th>\\n    <th>RESULTS</th>\\n    <th>BIOLOGICAL REF RANGE</th>\\n    <th>METHOD</th>\\n  </tr>\\n  <tr>\\n    <td>RBC PARAMETERS</td>\\n    <td></td>\\n    <td></td>\\n    <td></td>\\n  </tr>\\n  <tr>\\n    <td>Haemoglobin</td>\\n    <td>11.8</td>\\n    <td>12.0-15.0 g/dL</td>\\n    <td>Spectrophotometric</td>\\n  </tr>\\n  <tr>\\n    <td>RBC</td>\\n    <td>4.61</td>\\n    <td>3.8-4.8 mil/cmm</td>\\n    <td>Elect. Impedance</td>\\n  </tr>\\n  <tr>\\n    <td>PCV</td>\\n    <td>37.6</td>\\n    <td>36-46 %</td>\\n    <td>Measured</td>\\n  </tr>\\n  <tr>\\n    <td>MCV</td>\\n    <td>81.5</td>\\n    <td>80-100 fl</td>\\n    <td>Calculated</td>\\n  </tr>\\n  <tr>\\n    <td>MCH</td>\\n    <td>25.5</td>\\n    <td>27-32 pg</td>\\n    <td>Calculated</td>\\n  </tr>\\n  <tr>\\n    <td>MCHC</td>\\n    <td>31.3</td>\\n    <td>31.5-34.5 g/dL</td>\\n    <td>Calculated</td>\\n  </tr>\\n  <tr>\\n    <td>RDW</td>\\n    <td>12.5</td>\\n    <td>11.6-14.0 %</td>\\n    <td>Calculated</td>\\n  </tr>\\n  <tr>\\n    <td>WBC PARAMETERS</td>\\n    <td></td>\\n    <td></td>\\n    <td></td>\\n  </tr>\\n  <tr>\\n    <td>WBC Total Count</td>\\n    <td>17800</td>\\n    <td>4000-10000 /cmm</td>\\n    <td>Elect. Impedance</td>\\n  </tr>\\n  <tr>\\n    <td>WBC DIFFERENTIAL AND ABSOLUTE COUNTS</td>\\n    <td></td>\\n    <td></td>\\n    <td></td>\\n  </tr>\\n  <tr>\\n    <td>Lymphocytes</td>\\n    <td>12.9</td>\\n    <td>20-40 %</td>\\n    <td>Absolute Lymphocytes</td>\\n  </tr>\\n  <tr>\\n    <td>Monocytes</td>\\n    <td>11.0</td>\\n    <td>2-10 %</td>\\n    <td>Absolute Monocytes</td>\\n  </tr>\\n  <tr>\\n    <td>Neutrophils</td>\\n    <td>74.5</td>\\n    <td>40-80 %</td>\\n    <td>Absolute Neutrophils</td>\\n  </tr>\\n  <tr>\\n    <td>Eosinophils</td>\\n    <td>1.2</td>\\n    <td>1-6 %</td>\\n    <td>Absolute Eosinophils</td>\\n  </tr>\\n  <tr>\\n    <td>Basophils</td>\\n    <td>0.4</td>\\n    <td>0.1-2 %</td>\\n    <td>Absolute Basophils</td>\\n  </tr>\\n  <tr>\\n    <td>Immature Leukocytes</td>\\n    <td>-</td>\\n    <td>WBC Differential Count by Absorbance & Impedance method/Microscopy.</td>\\n    <td></td>\\n  </tr>\\n  <tr>\\n    <td>PLATELET PARAMETERS</td>\\n    <td></td>\\n    <td></td>\\n    <td></td>\\n  </tr>\\n  <tr>\\n    <td>Platelet Count</td>\\n    <td>336000</td>\\n    <td>150000-400000 /cmm</td>\\n    <td>Elect. Impedance</td>\\n  </tr>\\n  <tr>\\n    <td>MPV</td>\\n    <td>8.5</td>\\n    <td>6-11 fl</td>\\n    <td>Calculated</td>\\n  </tr>\\n  <tr>\\n    <td>PDW</td>\\n    <td>11.8</td>\\n    <td>11-18 %</td>\\n    <td>Calculated</td>\\n  </tr>\\n  <tr>\\n    <td>RBC MORPHOLOGY</td>\\n    <td></td>\\n    <td></td>\\n    <td></td>\\n  </tr>\\n  <tr>\\n    <td>Hypochromia</td>\\n    <td>Mild</td>\\n    <td></td>\\n    <td></td>\\n  </tr>\\n  <tr>\\n    <td>Microcytosis</td>\\n    <td>-</td>\\n    <td></td>\\n    <td></td>\\n  </tr>\\n  <tr>\\n    <td>Macrocytosis</td>\\n    <td>-</td>\\n    <td></td>\\n    <td></td>\\n  </tr>\\n  <tr>\\n    <td>Anisocytosis</td>\\n    <td>-</td>\\n    <td></td>\\n    <td></td>\\n  </tr>\\n  <tr>\\n    <td>Poikilocytosis</td>\\n    <td>-</td>\\n    <td></td>\\n    <td></td>\\n  </tr>\\n  <tr>\\n    <td>Polychromasia</td>\\n    <td>-</td>\\n    <td></td>\\n    <td></td>\\n  </tr>\\n  <tr>\\n    <td>Target Cells</td>\\n    <td>-</td>\\n    <td></td>\\n    <td></td>\\n  </tr>\\n  <tr>\\n    <td>Basophilic Stippling</td>\\n    <td>-</td>\\n    <td></td>\\n    <td></td>\\n  </tr>\\n  <tr>\\n    <td>Normoblasts</td>\\n    <td>-</td>\\n    <td></td>\\n    <td></td>\\n  </tr>\\n  <tr>\\n    <td>Others</td>\\n    <td>-</td>\\n    <td></td>\\n    <td></td>\\n  </tr>\\n  <tr>\\n    <td>WBC MORPHOLOGY</td>\\n    <td>-</td>\\n    <td></td>\\n    <td></td>\\n  </tr>\\n  <tr>\\n    <td>PLATELET MORPHOLOGY</td>\\n    <td>-</td>\\n    <td></td>\\n    <td></td>\\n  </tr>\\n  <tr>\\n    <td>COMMENT</td>\\n    <td>Neutrophilic Leukocytosis</td>\\n    <td>Specimen: EDTA Whole Blood</td>\\n    <td>*Sample processed at SUBURBAN DIAGNOSTICS (INDIA) PVT. LTD Zen Lab, Chembur</td>\\n  </tr>\\n</table>'"
      ]
     },
     "execution_count": 79,
     "metadata": {},
     "output_type": "execute_result"
    }
   ],
   "source": [
    "response.response"
   ]
  },
  {
   "cell_type": "code",
   "execution_count": 80,
   "id": "ceb309b1",
   "metadata": {},
   "outputs": [
    {
     "name": "stderr",
     "output_type": "stream",
     "text": [
      "<ipython-input-80-03d1f0c8f367>:1: DeprecationWarning: Importing display from IPython.core.display is deprecated since IPython 7.14, please import from IPython display\n",
      "  from IPython.core.display import display, HTML\n"
     ]
    },
    {
     "data": {
      "text/html": [
       "\n",
       "Yes, you can provide the complete blood count report for Mrs. Reshma Hemdev as an HTML table, including the RBC count which is 4.61 mil/cmm and is within the normal range of 3.8-4.8 mil/cmm.\n",
       "\n",
       "<table>\n",
       "  <tr>\n",
       "    <th>PARAMETER</th>\n",
       "    <th>RESULTS</th>\n",
       "    <th>BIOLOGICAL REF RANGE</th>\n",
       "    <th>METHOD</th>\n",
       "  </tr>\n",
       "  <tr>\n",
       "    <td>RBC PARAMETERS</td>\n",
       "    <td></td>\n",
       "    <td></td>\n",
       "    <td></td>\n",
       "  </tr>\n",
       "  <tr>\n",
       "    <td>Haemoglobin</td>\n",
       "    <td>11.8</td>\n",
       "    <td>12.0-15.0 g/dL</td>\n",
       "    <td>Spectrophotometric</td>\n",
       "  </tr>\n",
       "  <tr>\n",
       "    <td>RBC</td>\n",
       "    <td>4.61</td>\n",
       "    <td>3.8-4.8 mil/cmm</td>\n",
       "    <td>Elect. Impedance</td>\n",
       "  </tr>\n",
       "  <tr>\n",
       "    <td>PCV</td>\n",
       "    <td>37.6</td>\n",
       "    <td>36-46 %</td>\n",
       "    <td>Measured</td>\n",
       "  </tr>\n",
       "  <tr>\n",
       "    <td>MCV</td>\n",
       "    <td>81.5</td>\n",
       "    <td>80-100 fl</td>\n",
       "    <td>Calculated</td>\n",
       "  </tr>\n",
       "  <tr>\n",
       "    <td>MCH</td>\n",
       "    <td>25.5</td>\n",
       "    <td>27-32 pg</td>\n",
       "    <td>Calculated</td>\n",
       "  </tr>\n",
       "  <tr>\n",
       "    <td>MCHC</td>\n",
       "    <td>31.3</td>\n",
       "    <td>31.5-34.5 g/dL</td>\n",
       "    <td>Calculated</td>\n",
       "  </tr>\n",
       "  <tr>\n",
       "    <td>RDW</td>\n",
       "    <td>12.5</td>\n",
       "    <td>11.6-14.0 %</td>\n",
       "    <td>Calculated</td>\n",
       "  </tr>\n",
       "  <tr>\n",
       "    <td>WBC PARAMETERS</td>\n",
       "    <td></td>\n",
       "    <td></td>\n",
       "    <td></td>\n",
       "  </tr>\n",
       "  <tr>\n",
       "    <td>WBC Total Count</td>\n",
       "    <td>17800</td>\n",
       "    <td>4000-10000 /cmm</td>\n",
       "    <td>Elect. Impedance</td>\n",
       "  </tr>\n",
       "  <tr>\n",
       "    <td>WBC DIFFERENTIAL AND ABSOLUTE COUNTS</td>\n",
       "    <td></td>\n",
       "    <td></td>\n",
       "    <td></td>\n",
       "  </tr>\n",
       "  <tr>\n",
       "    <td>Lymphocytes</td>\n",
       "    <td>12.9</td>\n",
       "    <td>20-40 %</td>\n",
       "    <td>Absolute Lymphocytes</td>\n",
       "  </tr>\n",
       "  <tr>\n",
       "    <td>Monocytes</td>\n",
       "    <td>11.0</td>\n",
       "    <td>2-10 %</td>\n",
       "    <td>Absolute Monocytes</td>\n",
       "  </tr>\n",
       "  <tr>\n",
       "    <td>Neutrophils</td>\n",
       "    <td>74.5</td>\n",
       "    <td>40-80 %</td>\n",
       "    <td>Absolute Neutrophils</td>\n",
       "  </tr>\n",
       "  <tr>\n",
       "    <td>Eosinophils</td>\n",
       "    <td>1.2</td>\n",
       "    <td>1-6 %</td>\n",
       "    <td>Absolute Eosinophils</td>\n",
       "  </tr>\n",
       "  <tr>\n",
       "    <td>Basophils</td>\n",
       "    <td>0.4</td>\n",
       "    <td>0.1-2 %</td>\n",
       "    <td>Absolute Basophils</td>\n",
       "  </tr>\n",
       "  <tr>\n",
       "    <td>Immature Leukocytes</td>\n",
       "    <td>-</td>\n",
       "    <td>WBC Differential Count by Absorbance & Impedance method/Microscopy.</td>\n",
       "    <td></td>\n",
       "  </tr>\n",
       "  <tr>\n",
       "    <td>PLATELET PARAMETERS</td>\n",
       "    <td></td>\n",
       "    <td></td>\n",
       "    <td></td>\n",
       "  </tr>\n",
       "  <tr>\n",
       "    <td>Platelet Count</td>\n",
       "    <td>336000</td>\n",
       "    <td>150000-400000 /cmm</td>\n",
       "    <td>Elect. Impedance</td>\n",
       "  </tr>\n",
       "  <tr>\n",
       "    <td>MPV</td>\n",
       "    <td>8.5</td>\n",
       "    <td>6-11 fl</td>\n",
       "    <td>Calculated</td>\n",
       "  </tr>\n",
       "  <tr>\n",
       "    <td>PDW</td>\n",
       "    <td>11.8</td>\n",
       "    <td>11-18 %</td>\n",
       "    <td>Calculated</td>\n",
       "  </tr>\n",
       "  <tr>\n",
       "    <td>RBC MORPHOLOGY</td>\n",
       "    <td></td>\n",
       "    <td></td>\n",
       "    <td></td>\n",
       "  </tr>\n",
       "  <tr>\n",
       "    <td>Hypochromia</td>\n",
       "    <td>Mild</td>\n",
       "    <td></td>\n",
       "    <td></td>\n",
       "  </tr>\n",
       "  <tr>\n",
       "    <td>Microcytosis</td>\n",
       "    <td>-</td>\n",
       "    <td></td>\n",
       "    <td></td>\n",
       "  </tr>\n",
       "  <tr>\n",
       "    <td>Macrocytosis</td>\n",
       "    <td>-</td>\n",
       "    <td></td>\n",
       "    <td></td>\n",
       "  </tr>\n",
       "  <tr>\n",
       "    <td>Anisocytosis</td>\n",
       "    <td>-</td>\n",
       "    <td></td>\n",
       "    <td></td>\n",
       "  </tr>\n",
       "  <tr>\n",
       "    <td>Poikilocytosis</td>\n",
       "    <td>-</td>\n",
       "    <td></td>\n",
       "    <td></td>\n",
       "  </tr>\n",
       "  <tr>\n",
       "    <td>Polychromasia</td>\n",
       "    <td>-</td>\n",
       "    <td></td>\n",
       "    <td></td>\n",
       "  </tr>\n",
       "  <tr>\n",
       "    <td>Target Cells</td>\n",
       "    <td>-</td>\n",
       "    <td></td>\n",
       "    <td></td>\n",
       "  </tr>\n",
       "  <tr>\n",
       "    <td>Basophilic Stippling</td>\n",
       "    <td>-</td>\n",
       "    <td></td>\n",
       "    <td></td>\n",
       "  </tr>\n",
       "  <tr>\n",
       "    <td>Normoblasts</td>\n",
       "    <td>-</td>\n",
       "    <td></td>\n",
       "    <td></td>\n",
       "  </tr>\n",
       "  <tr>\n",
       "    <td>Others</td>\n",
       "    <td>-</td>\n",
       "    <td></td>\n",
       "    <td></td>\n",
       "  </tr>\n",
       "  <tr>\n",
       "    <td>WBC MORPHOLOGY</td>\n",
       "    <td>-</td>\n",
       "    <td></td>\n",
       "    <td></td>\n",
       "  </tr>\n",
       "  <tr>\n",
       "    <td>PLATELET MORPHOLOGY</td>\n",
       "    <td>-</td>\n",
       "    <td></td>\n",
       "    <td></td>\n",
       "  </tr>\n",
       "  <tr>\n",
       "    <td>COMMENT</td>\n",
       "    <td>Neutrophilic Leukocytosis</td>\n",
       "    <td>Specimen: EDTA Whole Blood</td>\n",
       "    <td>*Sample processed at SUBURBAN DIAGNOSTICS (INDIA) PVT. LTD Zen Lab, Chembur</td>\n",
       "  </tr>\n",
       "</table>"
      ],
      "text/plain": [
       "<IPython.core.display.HTML object>"
      ]
     },
     "metadata": {},
     "output_type": "display_data"
    }
   ],
   "source": [
    "from IPython.core.display import display, HTML\n",
    "display(HTML(response.response))"
   ]
  },
  {
   "cell_type": "markdown",
   "id": "1efacc97",
   "metadata": {},
   "source": [
    "## summarization"
   ]
  },
  {
   "cell_type": "code",
   "execution_count": 83,
   "id": "7338a35d",
   "metadata": {},
   "outputs": [],
   "source": [
    "from llama_index import GPTListIndex\n",
    "index = GPTListIndex.from_documents(documents)\n",
    "\n",
    "query_engine = index.as_query_engine(\n",
    "    response_mode=\"tree_summarize\"\n",
    ")"
   ]
  },
  {
   "cell_type": "code",
   "execution_count": 104,
   "id": "2caebe97",
   "metadata": {},
   "outputs": [
    {
     "name": "stdout",
     "output_type": "stream",
     "text": [
      "\n",
      "<ul>\n",
      "  <li>Complete Blood Count (CBC) results: Haemoglobin 11.8 g/dL, RBC 4.61 mil/cmm, PCV 37.6 %, MCV 81.5 fl, MCH 25.5 pg, MCHC 31.3 g/dL, RDW 12.5 %</li>\n",
      "  <li>WBC Total Count 17800 /cmm, Lymphocytes 12.9 %, Absolute Lymphocytes 2296.2 /cmm, Monocytes 11.0 %, Absolute Monocytes 1958.0 /cmm, Neutrophils 74.5 %, Absolute Neutrophils 13261.0 /cmm, Eosinophils 1.2 %, Absolute Eosinophils 213.6 /cmm, Basophils 0.4 %, Absolute Basophils 71.2 /cmm, Immature Leukocytes -</li>\n",
      "  <li>Platelet Count 336000 /cmm, MPV 8.5 fl, PDW 11.8 %</li>\n",
      "  <li>RBC Morphology: Hypochromia Mild</li>\n",
      "  <li>Malarial Parasite (MP) test result: Negative</li>\n",
      "  <li>CRP-Quantitative Test result: 219.9 mg/l</li>\n",
      "  <li>CRP test is not diagnostic of any condition, but it can be used together with signs and symptoms and other tests to evaluate an individual for an acute or chronic inflammatory condition.</li>\n",
      "  <li>Reflex Tests: Complement, Procalcitonin</li>\n",
      "</ul>\n"
     ]
    }
   ],
   "source": [
    "# prompt = f\"<summarization_query>\"\n",
    "prompt = f\"Give me a summary of the medical report? Return the critial points as html list. Make sure the output is only in HTML format.\"\n",
    "response = query_engine.query(prompt)\n",
    "print(response)"
   ]
  },
  {
   "cell_type": "code",
   "execution_count": 107,
   "id": "b66fd26f",
   "metadata": {},
   "outputs": [
    {
     "name": "stdout",
     "output_type": "stream",
     "text": [
      "\n",
      "मूलत: यह रिपोर्ट एक 55 वर्षीय महिला के लिए की गई थी। रिपोर्ट में रक्त की पूरी माहिती शामिल है, जैसे कि हेमोग्लोबिन, रेड ब्लड केल्लेस, प्लेटेट की गणना, मलेरिया पैरासाइट और CRP क्वांटिटेटिव टेस्ट। रिपोर्ट में दिखाया गया है कि रक्त में न्यूट्रोफिल ल्यूकोसाइटिस है और CRP की स्तर उच्च है। इसका मतलब है कि शरीर में एक तीव्र इन्फ्लेमेशन हो रहा है।\n"
     ]
    }
   ],
   "source": [
    "prompt = f\"Give me a summary of the medical report in laymen terms? Any person that does not have much understanding\\\n",
    "            about the medical term should be able to understand. Return the response in Hindi Language\"\n",
    "response = query_engine.query(prompt)\n",
    "print(response)"
   ]
  },
  {
   "cell_type": "code",
   "execution_count": 106,
   "id": "32d19dad",
   "metadata": {},
   "outputs": [
    {
     "data": {
      "text/html": [
       "\n",
       "<ul>\n",
       "  <li>Complete Blood Count (CBC) results: Haemoglobin 11.8 g/dL, RBC 4.61 mil/cmm, PCV 37.6 %, MCV 81.5 fl, MCH 25.5 pg, MCHC 31.3 g/dL, RDW 12.5 %</li>\n",
       "  <li>WBC Total Count 17800 /cmm, Lymphocytes 12.9 %, Absolute Lymphocytes 2296.2 /cmm, Monocytes 11.0 %, Absolute Monocytes 1958.0 /cmm, Neutrophils 74.5 %, Absolute Neutrophils 13261.0 /cmm, Eosinophils 1.2 %, Absolute Eosinophils 213.6 /cmm, Basophils 0.4 %, Absolute Basophils 71.2 /cmm, Immature Leukocytes -</li>\n",
       "  <li>Platelet Count 336000 /cmm, MPV 8.5 fl, PDW 11.8 %</li>\n",
       "  <li>RBC Morphology: Hypochromia Mild</li>\n",
       "  <li>Malarial Parasite (MP) test result: Negative</li>\n",
       "  <li>CRP-Quantitative Test result: 219.9 mg/l</li>\n",
       "  <li>CRP test is not diagnostic of any condition, but it can be used together with signs and symptoms and other tests to evaluate an individual for an acute or chronic inflammatory condition.</li>\n",
       "  <li>Reflex Tests: Complement, Procalcitonin</li>\n",
       "</ul>\n"
      ],
      "text/plain": [
       "<IPython.core.display.HTML object>"
      ]
     },
     "metadata": {},
     "output_type": "display_data"
    }
   ],
   "source": [
    "from IPython.display import display, Markdown, Latex, HTML, JSON\n",
    "\n",
    "html_text = \"\"\"\n",
    "<ul>\n",
    "  <li>Complete Blood Count (CBC) results: Haemoglobin 11.8 g/dL, RBC 4.61 mil/cmm, PCV 37.6 %, MCV 81.5 fl, MCH 25.5 pg, MCHC 31.3 g/dL, RDW 12.5 %</li>\n",
    "  <li>WBC Total Count 17800 /cmm, Lymphocytes 12.9 %, Absolute Lymphocytes 2296.2 /cmm, Monocytes 11.0 %, Absolute Monocytes 1958.0 /cmm, Neutrophils 74.5 %, Absolute Neutrophils 13261.0 /cmm, Eosinophils 1.2 %, Absolute Eosinophils 213.6 /cmm, Basophils 0.4 %, Absolute Basophils 71.2 /cmm, Immature Leukocytes -</li>\n",
    "  <li>Platelet Count 336000 /cmm, MPV 8.5 fl, PDW 11.8 %</li>\n",
    "  <li>RBC Morphology: Hypochromia Mild</li>\n",
    "  <li>Malarial Parasite (MP) test result: Negative</li>\n",
    "  <li>CRP-Quantitative Test result: 219.9 mg/l</li>\n",
    "  <li>CRP test is not diagnostic of any condition, but it can be used together with signs and symptoms and other tests to evaluate an individual for an acute or chronic inflammatory condition.</li>\n",
    "  <li>Reflex Tests: Complement, Procalcitonin</li>\n",
    "</ul>\n",
    "\"\"\"\n",
    "display(HTML(html_text))"
   ]
  },
  {
   "cell_type": "markdown",
   "id": "078df28c",
   "metadata": {},
   "source": [
    "## Chat Engine - ReAct Mode"
   ]
  },
  {
   "cell_type": "code",
   "execution_count": 91,
   "id": "422796b3",
   "metadata": {},
   "outputs": [],
   "source": []
  },
  {
   "cell_type": "code",
   "execution_count": null,
   "id": "95bff705",
   "metadata": {},
   "outputs": [],
   "source": []
  },
  {
   "cell_type": "code",
   "execution_count": 92,
   "id": "5e6e4b7d",
   "metadata": {},
   "outputs": [],
   "source": []
  },
  {
   "cell_type": "code",
   "execution_count": null,
   "id": "905808fe",
   "metadata": {},
   "outputs": [],
   "source": []
  },
  {
   "cell_type": "markdown",
   "id": "4ae5b809",
   "metadata": {},
   "source": [
    "## openai api test"
   ]
  },
  {
   "cell_type": "code",
   "execution_count": 101,
   "id": "f3187dd0",
   "metadata": {},
   "outputs": [],
   "source": [
    "import os\n",
    "import openai\n",
    "\n",
    "openai.api_key  = os.getenv('OPENAI_API_KEY')"
   ]
  },
  {
   "cell_type": "code",
   "execution_count": null,
   "id": "0f167114",
   "metadata": {},
   "outputs": [],
   "source": []
  },
  {
   "cell_type": "code",
   "execution_count": 97,
   "id": "ca37df63",
   "metadata": {},
   "outputs": [],
   "source": [
    "def get_completion_from_messages(messages, \n",
    "                                 model=\"gpt-3.5-turbo\", \n",
    "                                 temperature=0, \n",
    "                                 max_tokens=500):\n",
    "    response = openai.ChatCompletion.create(\n",
    "        model=model,\n",
    "        messages=messages,\n",
    "        temperature=temperature, \n",
    "        max_tokens=max_tokens,\n",
    "    )\n",
    "    return response.choices[0].message[\"content\"]"
   ]
  },
  {
   "cell_type": "code",
   "execution_count": 98,
   "id": "cefd96bd",
   "metadata": {},
   "outputs": [
    {
     "name": "stdout",
     "output_type": "stream",
     "text": [
      "{\n",
      "  \"primary\": \"Account Management\",\n",
      "  \"secondary\": \"Close account\"\n",
      "}\n"
     ]
    }
   ],
   "source": [
    "delimiter = \"####\"\n",
    "system_message = f\"\"\"\n",
    "You will be provided with customer service queries. \\\n",
    "The customer service query will be delimited with \\\n",
    "{delimiter} characters.\n",
    "Classify each query into a primary category \\\n",
    "and a secondary category. \n",
    "Provide your output in json format with the \\\n",
    "keys: primary and secondary.\n",
    "\n",
    "Primary categories: Billing, Technical Support, \\\n",
    "Account Management, or General Inquiry.\n",
    "\n",
    "Billing secondary categories:\n",
    "Unsubscribe or upgrade\n",
    "Add a payment method\n",
    "Explanation for charge\n",
    "Dispute a charge\n",
    "\n",
    "Technical Support secondary categories:\n",
    "General troubleshooting\n",
    "Device compatibility\n",
    "Software updates\n",
    "\n",
    "Account Management secondary categories:\n",
    "Password reset\n",
    "Update personal information\n",
    "Close account\n",
    "Account security\n",
    "\n",
    "General Inquiry secondary categories:\n",
    "Product information\n",
    "Pricing\n",
    "Feedback\n",
    "Speak to a human\n",
    "\n",
    "\"\"\"\n",
    "user_message = f\"\"\"\\\n",
    "I want you to delete my profile and all of my user data\"\"\"\n",
    "messages =  [  \n",
    "{'role':'system', \n",
    " 'content': system_message},    \n",
    "{'role':'user', \n",
    " 'content': f\"{delimiter}{user_message}{delimiter}\"},  \n",
    "] \n",
    "response = get_completion_from_messages(messages)\n",
    "print(response)"
   ]
  },
  {
   "cell_type": "code",
   "execution_count": null,
   "id": "510deced",
   "metadata": {},
   "outputs": [],
   "source": []
  }
 ],
 "metadata": {
  "kernelspec": {
   "display_name": "Python 3",
   "language": "python",
   "name": "python3"
  },
  "language_info": {
   "codemirror_mode": {
    "name": "ipython",
    "version": 3
   },
   "file_extension": ".py",
   "mimetype": "text/x-python",
   "name": "python",
   "nbconvert_exporter": "python",
   "pygments_lexer": "ipython3",
   "version": "3.9.15"
  }
 },
 "nbformat": 4,
 "nbformat_minor": 5
}
